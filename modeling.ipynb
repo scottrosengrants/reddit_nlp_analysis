{
 "cells": [
  {
   "cell_type": "markdown",
   "metadata": {},
   "source": [
    "# NLP Modeling"
   ]
  },
  {
   "cell_type": "markdown",
   "metadata": {},
   "source": [
    "**Target Column 'subreddit' values:**\n",
    "\n",
    "   - Cooking: 0\n",
    "   - Keto: 1\n",
    "   - EatCheapAndHealthy: 2\n",
    "   - DIY: 3\n",
    "   - DataScience: 4"
   ]
  },
  {
   "cell_type": "code",
   "execution_count": 630,
   "metadata": {},
   "outputs": [],
   "source": [
    "#imports\n",
    "import pandas as pd\n",
    "import numpy as np\n",
    "import time \n",
    "from sklearn.model_selection import GridSearchCV, train_test_split\n",
    "from sklearn.pipeline import Pipeline\n",
    "from sklearn.feature_extraction.text import CountVectorizer, TfidfVectorizer\n",
    "from sklearn.linear_model import LogisticRegression\n",
    "from sklearn.preprocessing import LabelEncoder\n",
    "from sklearn.naive_bayes import GaussianNB\n",
    "from sklearn.svm import SVC\n",
    "from sklearn import metrics\n",
    "import seaborn as sns"
   ]
  },
  {
   "cell_type": "code",
   "execution_count": 196,
   "metadata": {},
   "outputs": [
    {
     "data": {
      "text/html": [
       "<div>\n",
       "<style scoped>\n",
       "    .dataframe tbody tr th:only-of-type {\n",
       "        vertical-align: middle;\n",
       "    }\n",
       "\n",
       "    .dataframe tbody tr th {\n",
       "        vertical-align: top;\n",
       "    }\n",
       "\n",
       "    .dataframe thead th {\n",
       "        text-align: right;\n",
       "    }\n",
       "</style>\n",
       "<table border=\"1\" class=\"dataframe\">\n",
       "  <thead>\n",
       "    <tr style=\"text-align: right;\">\n",
       "      <th></th>\n",
       "      <th>author</th>\n",
       "      <th>id</th>\n",
       "      <th>selftext</th>\n",
       "      <th>subreddit</th>\n",
       "      <th>title</th>\n",
       "    </tr>\n",
       "  </thead>\n",
       "  <tbody>\n",
       "    <tr>\n",
       "      <th>0</th>\n",
       "      <td>YurkeyYacon</td>\n",
       "      <td>ewbxxh</td>\n",
       "      <td>If you make:\\n\\n1. A dish with some amount of ...</td>\n",
       "      <td>0</td>\n",
       "      <td>Does infusing oil make the herb flavor stronge...</td>\n",
       "    </tr>\n",
       "    <tr>\n",
       "      <th>1</th>\n",
       "      <td>truedef</td>\n",
       "      <td>ewbvum</td>\n",
       "      <td>Will a dutch baby in an enameled cast iron ves...</td>\n",
       "      <td>0</td>\n",
       "      <td>Dutch baby in enameled cast iron</td>\n",
       "    </tr>\n",
       "    <tr>\n",
       "      <th>2</th>\n",
       "      <td>Roupert2</td>\n",
       "      <td>ewbi6w</td>\n",
       "      <td>Mine is an 8 cup glass measuring cup. I had be...</td>\n",
       "      <td>0</td>\n",
       "      <td>What was your favorite kitchen purchase of 2019?</td>\n",
       "    </tr>\n",
       "    <tr>\n",
       "      <th>3</th>\n",
       "      <td>CholoFlakes</td>\n",
       "      <td>ewbdkh</td>\n",
       "      <td>I will cook dinner for my family tomorrow and ...</td>\n",
       "      <td>0</td>\n",
       "      <td>Best dishes to serve alongside some chili con ...</td>\n",
       "    </tr>\n",
       "    <tr>\n",
       "      <th>4</th>\n",
       "      <td>Tanstorm</td>\n",
       "      <td>ewba8g</td>\n",
       "      <td>been having trouble with things sticking, kind...</td>\n",
       "      <td>0</td>\n",
       "      <td>Problem with stainless steel sticking Eggs or ...</td>\n",
       "    </tr>\n",
       "  </tbody>\n",
       "</table>\n",
       "</div>"
      ],
      "text/plain": [
       "        author      id                                           selftext  \\\n",
       "0  YurkeyYacon  ewbxxh  If you make:\\n\\n1. A dish with some amount of ...   \n",
       "1      truedef  ewbvum  Will a dutch baby in an enameled cast iron ves...   \n",
       "2     Roupert2  ewbi6w  Mine is an 8 cup glass measuring cup. I had be...   \n",
       "3  CholoFlakes  ewbdkh  I will cook dinner for my family tomorrow and ...   \n",
       "4     Tanstorm  ewba8g  been having trouble with things sticking, kind...   \n",
       "\n",
       "   subreddit                                              title  \n",
       "0          0  Does infusing oil make the herb flavor stronge...  \n",
       "1          0                   Dutch baby in enameled cast iron  \n",
       "2          0   What was your favorite kitchen purchase of 2019?  \n",
       "3          0  Best dishes to serve alongside some chili con ...  \n",
       "4          0  Problem with stainless steel sticking Eggs or ...  "
      ]
     },
     "execution_count": 196,
     "metadata": {},
     "output_type": "execute_result"
    }
   ],
   "source": [
    "# read in data\n",
    "data = pd.read_csv('./Data/5_reddit_clean_data.csv')\n",
    "data.head()"
   ]
  },
  {
   "cell_type": "code",
   "execution_count": 200,
   "metadata": {},
   "outputs": [
    {
     "name": "stdout",
     "output_type": "stream",
     "text": [
      "Shape: (61637, 5)\n",
      "10% of that is 6164.0 rows\n"
     ]
    }
   ],
   "source": [
    "# check the length of the dataframe\n",
    "print(f'Shape: {data.shape}')\n",
    "# find 10% of that\n",
    "print(f'10% of that is {np.round(data.shape[0]*.1)} rows')"
   ]
  },
  {
   "cell_type": "code",
   "execution_count": 201,
   "metadata": {},
   "outputs": [
    {
     "data": {
      "text/plain": [
       "1    0.233415\n",
       "0    0.229700\n",
       "2    0.208430\n",
       "4    0.195191\n",
       "3    0.133264\n",
       "Name: subreddit, dtype: float64"
      ]
     },
     "execution_count": 201,
     "metadata": {},
     "output_type": "execute_result"
    }
   ],
   "source": [
    "#check the subreddit proportions\n",
    "data['subreddit'].value_counts(normalize = True)"
   ]
  },
  {
   "cell_type": "markdown",
   "metadata": {},
   "source": [
    "The dataframe contains over 61,000 rows of reddit submissions. 10% will be partitioned off from the training and testing sets and held as validation set to use at the very end of this project. This will be done randomly with a random state so the data set is the same each time. "
   ]
  },
  {
   "cell_type": "code",
   "execution_count": 202,
   "metadata": {},
   "outputs": [],
   "source": [
    "# create a validation data set\n",
    "validation_data = data.sample(6164, random_state=42)"
   ]
  },
  {
   "cell_type": "code",
   "execution_count": 203,
   "metadata": {},
   "outputs": [
    {
     "data": {
      "text/plain": [
       "0    0.232966\n",
       "1    0.227125\n",
       "2    0.213335\n",
       "4    0.192408\n",
       "3    0.134166\n",
       "Name: subreddit, dtype: float64"
      ]
     },
     "execution_count": 203,
     "metadata": {},
     "output_type": "execute_result"
    }
   ],
   "source": [
    "# check the subreddit proportions to ensure they match the original\n",
    "validation_data['subreddit'].value_counts(normalize=True)"
   ]
  },
  {
   "cell_type": "code",
   "execution_count": 204,
   "metadata": {},
   "outputs": [],
   "source": [
    "# remove the validation set from the main data set\n",
    "data.drop(index = validation_data.index, inplace= True)"
   ]
  },
  {
   "cell_type": "code",
   "execution_count": 205,
   "metadata": {
    "scrolled": true
   },
   "outputs": [
    {
     "name": "stdout",
     "output_type": "stream",
     "text": [
      "Data length:  55473\n",
      "Validation data length:  6164\n"
     ]
    }
   ],
   "source": [
    "# check to ensure change was applied\n",
    "print('Data length: ',len(data))\n",
    "print('Validation data length: ', len(validation_data))"
   ]
  },
  {
   "cell_type": "markdown",
   "metadata": {},
   "source": [
    "### Split data to create a binomial data set with 'Datascience' and 'EatCheapAndHealthy' "
   ]
  },
  {
   "cell_type": "code",
   "execution_count": 226,
   "metadata": {},
   "outputs": [],
   "source": [
    "# create subset df with datascience and EatCheaplyAndHealthy subreddits called data_binomial => data_bi for short\n",
    "\n",
    "data_bi = data[(data['subreddit'] == 2) | (data['subreddit'] == 4)]"
   ]
  },
  {
   "cell_type": "code",
   "execution_count": 234,
   "metadata": {},
   "outputs": [],
   "source": [
    "# change EatCheapAndHealthy from 2 to 0 and datascience from 4 to 1\n",
    "data_bi['subreddit'].replace(to_replace = (2,4), value = (0,1), inplace = True)"
   ]
  },
  {
   "cell_type": "code",
   "execution_count": 235,
   "metadata": {},
   "outputs": [
    {
     "data": {
      "text/plain": [
       "0    11532\n",
       "1    10845\n",
       "Name: subreddit, dtype: int64"
      ]
     },
     "execution_count": 235,
     "metadata": {},
     "output_type": "execute_result"
    }
   ],
   "source": [
    "data_bi['subreddit'].value_counts()"
   ]
  },
  {
   "cell_type": "code",
   "execution_count": 236,
   "metadata": {},
   "outputs": [],
   "source": [
    "# set X and y\n",
    "X = data_bi[['selftext','title']]\n",
    "y = data_bi['subreddit']"
   ]
  },
  {
   "cell_type": "code",
   "execution_count": 237,
   "metadata": {},
   "outputs": [],
   "source": [
    "#split data into train and test sets (no need to stratify, targets are balanced)\n",
    "X_train, X_test, y_train, y_test = train_test_split(X,y,random_state = 42)"
   ]
  },
  {
   "cell_type": "markdown",
   "metadata": {},
   "source": [
    "Create Dataframe to store modeling results"
   ]
  },
  {
   "cell_type": "code",
   "execution_count": 288,
   "metadata": {},
   "outputs": [],
   "source": [
    "#commented out to ensure the dataframe is not lost\n",
    "#create a dataframe to store scores \n",
    "#score = pd.DataFrame(columns = ['data','vectorizer','model','hyperparameters','train_score','test_score', 'change',\n",
    "                               'time_fit'])\n"
   ]
  },
  {
   "cell_type": "code",
   "execution_count": 569,
   "metadata": {},
   "outputs": [],
   "source": [
    "#create function to save models used\n",
    "def add_score(data, vectorizer, model, params, train_score, test_score, time_fit, subreddits, ID):\n",
    "    print(f'{model} score added!')\n",
    "    return  {'data': data,\n",
    "            'vectorizer' : vectorizer,\n",
    "            'model': model,\n",
    "            'hyperparameters': params,\n",
    "            'train_score': train_score,\n",
    "            'test_score': test_score,\n",
    "            'change': test_score - train_score,\n",
    "            'time_fit': time_fit,\n",
    "            'subreddits' :subreddits,\n",
    "            'id' : ID\n",
    "            }\n",
    "    "
   ]
  },
  {
   "cell_type": "markdown",
   "metadata": {},
   "source": [
    "### Run Binomial prediction models"
   ]
  },
  {
   "cell_type": "markdown",
   "metadata": {},
   "source": [
    "#### Tfidf Vectorizer with Gausian Niave Bayes on 'title'"
   ]
  },
  {
   "cell_type": "code",
   "execution_count": 238,
   "metadata": {},
   "outputs": [],
   "source": [
    "# create a class to wrap the TFIDF Vectorizer so that it returns dense arrays intead of sparse arrays\n",
    "class DenseTfidfVectorizer(TfidfVectorizer):\n",
    "    def transform(self, raw_documents, copy=True):\n",
    "        X = super().transform(raw_documents, copy=copy)\n",
    "        df = pd.DataFrame(X.toarray(), columns=self.get_feature_names())\n",
    "        return df\n",
    "    def fit_transform(self, raw_documents, y=None):\n",
    "        X = super().fit_transform(raw_documents, y=y)\n",
    "        df = pd.DataFrame(X.toarray(), columns=self.get_feature_names())\n",
    "        return df\n",
    "# code adapted from Stack Overflow, thanks swat"
   ]
  },
  {
   "cell_type": "code",
   "execution_count": 239,
   "metadata": {},
   "outputs": [],
   "source": [
    "#Set up the pipeline for TFIDF Vectorizer with Gaussian NB\n",
    "pipe = Pipeline([\n",
    "                ('tfidf', DenseTfidfVectorizer(TfidfVectorizer())),\n",
    "                ('gnb', GaussianNB())\n",
    "])\n"
   ]
  },
  {
   "cell_type": "markdown",
   "metadata": {},
   "source": [
    "#### Tune hyperparameters (multiple times)"
   ]
  },
  {
   "cell_type": "code",
   "execution_count": 318,
   "metadata": {},
   "outputs": [],
   "source": [
    "params = {\n",
    "    'tfidf__max_features' : [2000],\n",
    "    'tfidf__stop_words' : ['english'],\n",
    "    'tfidf__ngram_range' : [(1,1)],\n",
    "    'tfidf__max_df' : [.70],\n",
    "    }"
   ]
  },
  {
   "cell_type": "code",
   "execution_count": 319,
   "metadata": {},
   "outputs": [],
   "source": [
    "# instantiate gridsearch on tfidf Vectorizer\n",
    "gs = GridSearchCV(pipe,\n",
    "                  params,\n",
    "                  cv = 5)"
   ]
  },
  {
   "cell_type": "code",
   "execution_count": 320,
   "metadata": {
    "scrolled": true
   },
   "outputs": [
    {
     "data": {
      "text/plain": [
       "GridSearchCV(cv=5, error_score='raise-deprecating',\n",
       "             estimator=Pipeline(memory=None,\n",
       "                                steps=[('tfidf',\n",
       "                                        DenseTfidfVectorizer(analyzer='word',\n",
       "                                                             binary=False,\n",
       "                                                             decode_error='strict',\n",
       "                                                             dtype=<class 'numpy.float64'>,\n",
       "                                                             encoding='utf-8',\n",
       "                                                             input=TfidfVectorizer(analyzer='word',\n",
       "                                                                                   binary=False,\n",
       "                                                                                   decode_error='strict',\n",
       "                                                                                   dtype=<class 'numpy.float64'>,\n",
       "                                                                                   encoding='utf-8',\n",
       "                                                                                   input='content',...\n",
       "                                                             token_pattern='(?u)\\\\b\\\\w\\\\w+\\\\b',\n",
       "                                                             tokenizer=None,\n",
       "                                                             use_idf=True,\n",
       "                                                             vocabulary=None)),\n",
       "                                       ('gnb',\n",
       "                                        GaussianNB(priors=None,\n",
       "                                                   var_smoothing=1e-09))],\n",
       "                                verbose=False),\n",
       "             iid='warn', n_jobs=None,\n",
       "             param_grid={'tfidf__max_df': [0.7], 'tfidf__max_features': [2000],\n",
       "                         'tfidf__ngram_range': [(1, 1)],\n",
       "                         'tfidf__stop_words': ['english']},\n",
       "             pre_dispatch='2*n_jobs', refit=True, return_train_score=False,\n",
       "             scoring=None, verbose=0)"
      ]
     },
     "execution_count": 320,
     "metadata": {},
     "output_type": "execute_result"
    }
   ],
   "source": [
    "# fit gridsearch\n",
    "gs.fit(X_train['title'], y_train)"
   ]
  },
  {
   "cell_type": "code",
   "execution_count": 321,
   "metadata": {
    "scrolled": true
   },
   "outputs": [
    {
     "name": "stdout",
     "output_type": "stream",
     "text": [
      "Accuracy Score:  0.9611488499582886\n",
      "Best Hyperperameters:  {'tfidf__max_df': 0.7, 'tfidf__max_features': 2000, 'tfidf__ngram_range': (1, 1), 'tfidf__stop_words': 'english'}\n"
     ]
    }
   ],
   "source": [
    "# check the best score and hyperperameters to achieve that score\n",
    "print('Accuracy Score: ',gs.best_score_)\n",
    "print('Best Hyperperameters: ', gs.best_params_) "
   ]
  },
  {
   "cell_type": "code",
   "execution_count": 322,
   "metadata": {},
   "outputs": [],
   "source": [
    "start = time.time()\n",
    "gs_predictions = gs.predict(X_test['title'])\n",
    "end = time.time()\n",
    "time_fit = end-start"
   ]
  },
  {
   "cell_type": "code",
   "execution_count": 323,
   "metadata": {},
   "outputs": [],
   "source": [
    "test_score = metrics.accuracy_score(y_test,gs_predictions)"
   ]
  },
  {
   "cell_type": "code",
   "execution_count": 324,
   "metadata": {
    "scrolled": true
   },
   "outputs": [
    {
     "name": "stdout",
     "output_type": "stream",
     "text": [
      "Gaussian NB - CV5 score added!\n"
     ]
    }
   ],
   "source": [
    "# use the score function to add Gaussian NB to the df\n",
    "score = score.append(add_score('Titles','TFIDF','Gaussian NB - CV5', gs.best_params_, \n",
    "                               gs.best_score_, test_score, time_fit),ignore_index=True,)"
   ]
  },
  {
   "cell_type": "code",
   "execution_count": 325,
   "metadata": {
    "scrolled": true
   },
   "outputs": [
    {
     "data": {
      "text/html": [
       "<div>\n",
       "<style scoped>\n",
       "    .dataframe tbody tr th:only-of-type {\n",
       "        vertical-align: middle;\n",
       "    }\n",
       "\n",
       "    .dataframe tbody tr th {\n",
       "        vertical-align: top;\n",
       "    }\n",
       "\n",
       "    .dataframe thead th {\n",
       "        text-align: right;\n",
       "    }\n",
       "</style>\n",
       "<table border=\"1\" class=\"dataframe\">\n",
       "  <thead>\n",
       "    <tr style=\"text-align: right;\">\n",
       "      <th></th>\n",
       "      <th>data</th>\n",
       "      <th>vectorizer</th>\n",
       "      <th>model</th>\n",
       "      <th>hyperparameters</th>\n",
       "      <th>train_score</th>\n",
       "      <th>test_score</th>\n",
       "      <th>change</th>\n",
       "      <th>time_fit</th>\n",
       "    </tr>\n",
       "  </thead>\n",
       "  <tbody>\n",
       "    <tr>\n",
       "      <th>0</th>\n",
       "      <td>Titles</td>\n",
       "      <td>TFIDF</td>\n",
       "      <td>Gaussian NB</td>\n",
       "      <td>Defaults</td>\n",
       "      <td>0.934096</td>\n",
       "      <td>0.933870</td>\n",
       "      <td>-0.000227</td>\n",
       "      <td>1.578710</td>\n",
       "    </tr>\n",
       "    <tr>\n",
       "      <th>1</th>\n",
       "      <td>Titles</td>\n",
       "      <td>TFIDF</td>\n",
       "      <td>Gaussian NB</td>\n",
       "      <td>{'tfidf__max_df': 0.9, 'tfidf__max_features': ...</td>\n",
       "      <td>0.952926</td>\n",
       "      <td>0.949062</td>\n",
       "      <td>-0.003864</td>\n",
       "      <td>0.130855</td>\n",
       "    </tr>\n",
       "    <tr>\n",
       "      <th>2</th>\n",
       "      <td>Titles</td>\n",
       "      <td>TFIDF</td>\n",
       "      <td>Gaussian NB</td>\n",
       "      <td>{'tfidf__max_df': 0.8, 'tfidf__max_features': ...</td>\n",
       "      <td>0.958765</td>\n",
       "      <td>0.959249</td>\n",
       "      <td>0.000484</td>\n",
       "      <td>0.237315</td>\n",
       "    </tr>\n",
       "    <tr>\n",
       "      <th>3</th>\n",
       "      <td>Titles</td>\n",
       "      <td>TFIDF</td>\n",
       "      <td>Gaussian NB</td>\n",
       "      <td>{'tfidf__max_df': 0.7, 'tfidf__max_features': ...</td>\n",
       "      <td>0.958765</td>\n",
       "      <td>0.959249</td>\n",
       "      <td>0.000484</td>\n",
       "      <td>0.206991</td>\n",
       "    </tr>\n",
       "    <tr>\n",
       "      <th>4</th>\n",
       "      <td>Titles</td>\n",
       "      <td>TFIDF</td>\n",
       "      <td>Gaussian NB - CV5</td>\n",
       "      <td>{'tfidf__max_df': 0.7, 'tfidf__max_features': ...</td>\n",
       "      <td>0.961149</td>\n",
       "      <td>0.959249</td>\n",
       "      <td>-0.001900</td>\n",
       "      <td>0.209275</td>\n",
       "    </tr>\n",
       "  </tbody>\n",
       "</table>\n",
       "</div>"
      ],
      "text/plain": [
       "     data vectorizer              model  \\\n",
       "0  Titles      TFIDF        Gaussian NB   \n",
       "1  Titles      TFIDF        Gaussian NB   \n",
       "2  Titles      TFIDF        Gaussian NB   \n",
       "3  Titles      TFIDF        Gaussian NB   \n",
       "4  Titles      TFIDF  Gaussian NB - CV5   \n",
       "\n",
       "                                     hyperparameters  train_score  test_score  \\\n",
       "0                                           Defaults     0.934096    0.933870   \n",
       "1  {'tfidf__max_df': 0.9, 'tfidf__max_features': ...     0.952926    0.949062   \n",
       "2  {'tfidf__max_df': 0.8, 'tfidf__max_features': ...     0.958765    0.959249   \n",
       "3  {'tfidf__max_df': 0.7, 'tfidf__max_features': ...     0.958765    0.959249   \n",
       "4  {'tfidf__max_df': 0.7, 'tfidf__max_features': ...     0.961149    0.959249   \n",
       "\n",
       "     change  time_fit  \n",
       "0 -0.000227  1.578710  \n",
       "1 -0.003864  0.130855  \n",
       "2  0.000484  0.237315  \n",
       "3  0.000484  0.206991  \n",
       "4 -0.001900  0.209275  "
      ]
     },
     "execution_count": 325,
     "metadata": {},
     "output_type": "execute_result"
    }
   ],
   "source": [
    "# check that the function worked\n",
    "score.head()"
   ]
  },
  {
   "cell_type": "code",
   "execution_count": 492,
   "metadata": {},
   "outputs": [],
   "source": [
    "# create a TFIDF Gaussian DF so results can be stored\n",
    "tfidf_gnb_results_titles = score.head()"
   ]
  },
  {
   "cell_type": "code",
   "execution_count": 493,
   "metadata": {},
   "outputs": [],
   "source": [
    "#export results\n",
    "tfidf_gnb_results_titles.to_csv('./results/tfidf_gnb_results_titles.csv')"
   ]
  },
  {
   "cell_type": "markdown",
   "metadata": {},
   "source": [
    "#### Tfidf Vectorizer with Gausian Niave Bayes on 'selftext' or body of the post"
   ]
  },
  {
   "cell_type": "code",
   "execution_count": 380,
   "metadata": {},
   "outputs": [],
   "source": [
    "# create new params for 'selftext'\n",
    "params_2 = {\n",
    "    'tfidf__max_features' : [5000],\n",
    "    'tfidf__stop_words' : ['english'],\n",
    "    'tfidf__ngram_range' : [(1,3)],\n",
    "    'tfidf__max_df' : [.60],\n",
    "    }"
   ]
  },
  {
   "cell_type": "code",
   "execution_count": 381,
   "metadata": {},
   "outputs": [],
   "source": [
    "# instantiate gridsearch on tfidf Vectorizer\n",
    "gs = GridSearchCV(pipe,\n",
    "                  params_2,\n",
    "                  cv = 5)"
   ]
  },
  {
   "cell_type": "code",
   "execution_count": 382,
   "metadata": {
    "scrolled": false
   },
   "outputs": [
    {
     "data": {
      "text/plain": [
       "GridSearchCV(cv=5, error_score='raise-deprecating',\n",
       "             estimator=Pipeline(memory=None,\n",
       "                                steps=[('tfidf',\n",
       "                                        DenseTfidfVectorizer(analyzer='word',\n",
       "                                                             binary=False,\n",
       "                                                             decode_error='strict',\n",
       "                                                             dtype=<class 'numpy.float64'>,\n",
       "                                                             encoding='utf-8',\n",
       "                                                             input=TfidfVectorizer(analyzer='word',\n",
       "                                                                                   binary=False,\n",
       "                                                                                   decode_error='strict',\n",
       "                                                                                   dtype=<class 'numpy.float64'>,\n",
       "                                                                                   encoding='utf-8',\n",
       "                                                                                   input='content',...\n",
       "                                                             token_pattern='(?u)\\\\b\\\\w\\\\w+\\\\b',\n",
       "                                                             tokenizer=None,\n",
       "                                                             use_idf=True,\n",
       "                                                             vocabulary=None)),\n",
       "                                       ('gnb',\n",
       "                                        GaussianNB(priors=None,\n",
       "                                                   var_smoothing=1e-09))],\n",
       "                                verbose=False),\n",
       "             iid='warn', n_jobs=None,\n",
       "             param_grid={'tfidf__max_df': [0.6], 'tfidf__max_features': [5000],\n",
       "                         'tfidf__ngram_range': [(1, 3)],\n",
       "                         'tfidf__stop_words': ['english']},\n",
       "             pre_dispatch='2*n_jobs', refit=True, return_train_score=False,\n",
       "             scoring=None, verbose=0)"
      ]
     },
     "execution_count": 382,
     "metadata": {},
     "output_type": "execute_result"
    }
   ],
   "source": [
    "# fit gridsearch using 'selftext'\n",
    "gs.fit(X_train['selftext'], y_train)"
   ]
  },
  {
   "cell_type": "code",
   "execution_count": 383,
   "metadata": {},
   "outputs": [
    {
     "name": "stdout",
     "output_type": "stream",
     "text": [
      "Accuracy Score:  0.9842688594923132\n",
      "Best Hyperperameters:  {'tfidf__max_df': 0.6, 'tfidf__max_features': 5000, 'tfidf__ngram_range': (1, 3), 'tfidf__stop_words': 'english'}\n"
     ]
    }
   ],
   "source": [
    "# check the best score and hyperperameters to achieve that score\n",
    "print('Accuracy Score: ',gs.best_score_)\n",
    "print('Best Hyperperameters: ', gs.best_params_) "
   ]
  },
  {
   "cell_type": "code",
   "execution_count": 384,
   "metadata": {},
   "outputs": [],
   "source": [
    "start = time.time()\n",
    "gs_predictions = gs.predict(X_test['selftext'])\n",
    "end = time.time()\n",
    "time_fit = end-start"
   ]
  },
  {
   "cell_type": "code",
   "execution_count": 386,
   "metadata": {},
   "outputs": [],
   "source": [
    "test_score = metrics.accuracy_score(y_test,gs_predictions)"
   ]
  },
  {
   "cell_type": "code",
   "execution_count": 387,
   "metadata": {},
   "outputs": [
    {
     "name": "stdout",
     "output_type": "stream",
     "text": [
      "Gaussian NB - CV5 score added!\n"
     ]
    }
   ],
   "source": [
    "# use the score function to add Gaussian NB to the df\n",
    "score = score.append(add_score('Submissions','TFIDF','Gaussian NB - CV5', gs.best_params_, \n",
    "                               gs.best_score_, test_score, time_fit),ignore_index=True,)"
   ]
  },
  {
   "cell_type": "code",
   "execution_count": 388,
   "metadata": {
    "scrolled": true
   },
   "outputs": [
    {
     "data": {
      "text/html": [
       "<div>\n",
       "<style scoped>\n",
       "    .dataframe tbody tr th:only-of-type {\n",
       "        vertical-align: middle;\n",
       "    }\n",
       "\n",
       "    .dataframe tbody tr th {\n",
       "        vertical-align: top;\n",
       "    }\n",
       "\n",
       "    .dataframe thead th {\n",
       "        text-align: right;\n",
       "    }\n",
       "</style>\n",
       "<table border=\"1\" class=\"dataframe\">\n",
       "  <thead>\n",
       "    <tr style=\"text-align: right;\">\n",
       "      <th></th>\n",
       "      <th>data</th>\n",
       "      <th>vectorizer</th>\n",
       "      <th>model</th>\n",
       "      <th>hyperparameters</th>\n",
       "      <th>train_score</th>\n",
       "      <th>test_score</th>\n",
       "      <th>change</th>\n",
       "      <th>time_fit</th>\n",
       "    </tr>\n",
       "  </thead>\n",
       "  <tbody>\n",
       "    <tr>\n",
       "      <th>0</th>\n",
       "      <td>Titles</td>\n",
       "      <td>TFIDF</td>\n",
       "      <td>Gaussian NB</td>\n",
       "      <td>Defaults</td>\n",
       "      <td>0.934096</td>\n",
       "      <td>0.933870</td>\n",
       "      <td>-0.000227</td>\n",
       "      <td>1.578710</td>\n",
       "    </tr>\n",
       "    <tr>\n",
       "      <th>1</th>\n",
       "      <td>Titles</td>\n",
       "      <td>TFIDF</td>\n",
       "      <td>Gaussian NB</td>\n",
       "      <td>{'tfidf__max_df': 0.9, 'tfidf__max_features': ...</td>\n",
       "      <td>0.952926</td>\n",
       "      <td>0.949062</td>\n",
       "      <td>-0.003864</td>\n",
       "      <td>0.130855</td>\n",
       "    </tr>\n",
       "    <tr>\n",
       "      <th>2</th>\n",
       "      <td>Titles</td>\n",
       "      <td>TFIDF</td>\n",
       "      <td>Gaussian NB</td>\n",
       "      <td>{'tfidf__max_df': 0.8, 'tfidf__max_features': ...</td>\n",
       "      <td>0.958765</td>\n",
       "      <td>0.959249</td>\n",
       "      <td>0.000484</td>\n",
       "      <td>0.237315</td>\n",
       "    </tr>\n",
       "    <tr>\n",
       "      <th>3</th>\n",
       "      <td>Titles</td>\n",
       "      <td>TFIDF</td>\n",
       "      <td>Gaussian NB</td>\n",
       "      <td>{'tfidf__max_df': 0.7, 'tfidf__max_features': ...</td>\n",
       "      <td>0.958765</td>\n",
       "      <td>0.959249</td>\n",
       "      <td>0.000484</td>\n",
       "      <td>0.206991</td>\n",
       "    </tr>\n",
       "    <tr>\n",
       "      <th>4</th>\n",
       "      <td>Titles</td>\n",
       "      <td>TFIDF</td>\n",
       "      <td>Gaussian NB - CV5</td>\n",
       "      <td>{'tfidf__max_df': 0.7, 'tfidf__max_features': ...</td>\n",
       "      <td>0.961149</td>\n",
       "      <td>0.959249</td>\n",
       "      <td>-0.001900</td>\n",
       "      <td>0.209275</td>\n",
       "    </tr>\n",
       "    <tr>\n",
       "      <th>5</th>\n",
       "      <td>Submissions</td>\n",
       "      <td>TFIDF</td>\n",
       "      <td>Gaussian NB - CV5</td>\n",
       "      <td>Defaults</td>\n",
       "      <td>0.952151</td>\n",
       "      <td>0.948704</td>\n",
       "      <td>-0.003447</td>\n",
       "      <td>5.435966</td>\n",
       "    </tr>\n",
       "    <tr>\n",
       "      <th>6</th>\n",
       "      <td>Submissions</td>\n",
       "      <td>TFIDF</td>\n",
       "      <td>Gaussian NB - CV5</td>\n",
       "      <td>{'tfidf__max_df': 0.7, 'tfidf__max_features': ...</td>\n",
       "      <td>0.981766</td>\n",
       "      <td>0.979446</td>\n",
       "      <td>-0.002320</td>\n",
       "      <td>0.649771</td>\n",
       "    </tr>\n",
       "    <tr>\n",
       "      <th>7</th>\n",
       "      <td>Submissions</td>\n",
       "      <td>TFIDF</td>\n",
       "      <td>Gaussian NB - CV5</td>\n",
       "      <td>{'tfidf__max_df': 0.7, 'tfidf__max_features': ...</td>\n",
       "      <td>0.983792</td>\n",
       "      <td>0.983557</td>\n",
       "      <td>-0.000235</td>\n",
       "      <td>1.149203</td>\n",
       "    </tr>\n",
       "    <tr>\n",
       "      <th>8</th>\n",
       "      <td>Submissions</td>\n",
       "      <td>TFIDF</td>\n",
       "      <td>Gaussian NB - CV5</td>\n",
       "      <td>{'tfidf__max_df': 0.6, 'tfidf__max_features': ...</td>\n",
       "      <td>0.983792</td>\n",
       "      <td>0.983557</td>\n",
       "      <td>-0.000235</td>\n",
       "      <td>1.178886</td>\n",
       "    </tr>\n",
       "    <tr>\n",
       "      <th>9</th>\n",
       "      <td>Submissions</td>\n",
       "      <td>TFIDF</td>\n",
       "      <td>Gaussian NB - CV5</td>\n",
       "      <td>{'tfidf__max_df': 0.6, 'tfidf__max_features': ...</td>\n",
       "      <td>0.984269</td>\n",
       "      <td>0.983557</td>\n",
       "      <td>-0.000712</td>\n",
       "      <td>1.438014</td>\n",
       "    </tr>\n",
       "  </tbody>\n",
       "</table>\n",
       "</div>"
      ],
      "text/plain": [
       "          data vectorizer              model  \\\n",
       "0       Titles      TFIDF        Gaussian NB   \n",
       "1       Titles      TFIDF        Gaussian NB   \n",
       "2       Titles      TFIDF        Gaussian NB   \n",
       "3       Titles      TFIDF        Gaussian NB   \n",
       "4       Titles      TFIDF  Gaussian NB - CV5   \n",
       "5  Submissions      TFIDF  Gaussian NB - CV5   \n",
       "6  Submissions      TFIDF  Gaussian NB - CV5   \n",
       "7  Submissions      TFIDF  Gaussian NB - CV5   \n",
       "8  Submissions      TFIDF  Gaussian NB - CV5   \n",
       "9  Submissions      TFIDF  Gaussian NB - CV5   \n",
       "\n",
       "                                     hyperparameters  train_score  test_score  \\\n",
       "0                                           Defaults     0.934096    0.933870   \n",
       "1  {'tfidf__max_df': 0.9, 'tfidf__max_features': ...     0.952926    0.949062   \n",
       "2  {'tfidf__max_df': 0.8, 'tfidf__max_features': ...     0.958765    0.959249   \n",
       "3  {'tfidf__max_df': 0.7, 'tfidf__max_features': ...     0.958765    0.959249   \n",
       "4  {'tfidf__max_df': 0.7, 'tfidf__max_features': ...     0.961149    0.959249   \n",
       "5                                           Defaults     0.952151    0.948704   \n",
       "6  {'tfidf__max_df': 0.7, 'tfidf__max_features': ...     0.981766    0.979446   \n",
       "7  {'tfidf__max_df': 0.7, 'tfidf__max_features': ...     0.983792    0.983557   \n",
       "8  {'tfidf__max_df': 0.6, 'tfidf__max_features': ...     0.983792    0.983557   \n",
       "9  {'tfidf__max_df': 0.6, 'tfidf__max_features': ...     0.984269    0.983557   \n",
       "\n",
       "     change  time_fit  \n",
       "0 -0.000227  1.578710  \n",
       "1 -0.003864  0.130855  \n",
       "2  0.000484  0.237315  \n",
       "3  0.000484  0.206991  \n",
       "4 -0.001900  0.209275  \n",
       "5 -0.003447  5.435966  \n",
       "6 -0.002320  0.649771  \n",
       "7 -0.000235  1.149203  \n",
       "8 -0.000235  1.178886  \n",
       "9 -0.000712  1.438014  "
      ]
     },
     "execution_count": 388,
     "metadata": {},
     "output_type": "execute_result"
    }
   ],
   "source": [
    "score.head(10)"
   ]
  },
  {
   "cell_type": "code",
   "execution_count": 485,
   "metadata": {},
   "outputs": [],
   "source": [
    "# create a TFIDF Gaussian on 'selftext' DF so results can be stored\n",
    "tfidf_gnb_results_subs = score[(score['model'] == 'Gaussian NB - CV5') & (score['data'] == 'Submissions')]"
   ]
  },
  {
   "cell_type": "code",
   "execution_count": 494,
   "metadata": {},
   "outputs": [],
   "source": [
    "#export results\n",
    "tfidf_gnb_results_subs.to_csv('./results/tfidf_gnb_results_subs.csv')"
   ]
  },
  {
   "cell_type": "markdown",
   "metadata": {},
   "source": [
    "#### Tfidf Vectorizer with Logistic Regression on 'title' "
   ]
  },
  {
   "cell_type": "code",
   "execution_count": 406,
   "metadata": {},
   "outputs": [],
   "source": [
    "#Set up the pipeline for TFIDF Vectorizer with Logistic Regression\n",
    "pipe = Pipeline([\n",
    "                ('tfidf', DenseTfidfVectorizer(TfidfVectorizer())),\n",
    "                ('lr', LogisticRegression())\n",
    "])"
   ]
  },
  {
   "cell_type": "code",
   "execution_count": 431,
   "metadata": {},
   "outputs": [],
   "source": [
    "#set params\n",
    "params = {\n",
    "    'tfidf__max_features' : [2000],\n",
    "    'tfidf__stop_words' : ['english'],\n",
    "    'tfidf__ngram_range' : [(1,1)],\n",
    "    'tfidf__max_df' : [.70],\n",
    "    \n",
    "    'lr__solver' : ['liblinear'],\n",
    "    'lr__penalty' : ['l1','l2'],\n",
    "    'lr__C' : [.1,.5,1]\n",
    "    }"
   ]
  },
  {
   "cell_type": "code",
   "execution_count": 432,
   "metadata": {},
   "outputs": [],
   "source": [
    "# instantiate gridsearch on tfidf Vectorizer and Logistic Regression\n",
    "gs = GridSearchCV(pipe,\n",
    "                  params,\n",
    "                  cv = 5)"
   ]
  },
  {
   "cell_type": "code",
   "execution_count": 433,
   "metadata": {},
   "outputs": [
    {
     "data": {
      "text/plain": [
       "GridSearchCV(cv=5, error_score='raise-deprecating',\n",
       "             estimator=Pipeline(memory=None,\n",
       "                                steps=[('tfidf',\n",
       "                                        DenseTfidfVectorizer(analyzer='word',\n",
       "                                                             binary=False,\n",
       "                                                             decode_error='strict',\n",
       "                                                             dtype=<class 'numpy.float64'>,\n",
       "                                                             encoding='utf-8',\n",
       "                                                             input=TfidfVectorizer(analyzer='word',\n",
       "                                                                                   binary=False,\n",
       "                                                                                   decode_error='strict',\n",
       "                                                                                   dtype=<class 'numpy.float64'>,\n",
       "                                                                                   encoding='utf-8',\n",
       "                                                                                   input='content',...\n",
       "                                                           tol=0.0001,\n",
       "                                                           verbose=0,\n",
       "                                                           warm_start=False))],\n",
       "                                verbose=False),\n",
       "             iid='warn', n_jobs=None,\n",
       "             param_grid={'lr__C': [0.1, 0.5, 1], 'lr__penalty': ['l1', 'l2'],\n",
       "                         'lr__solver': ['liblinear'], 'tfidf__max_df': [0.7],\n",
       "                         'tfidf__max_features': [2000],\n",
       "                         'tfidf__ngram_range': [(1, 1)],\n",
       "                         'tfidf__stop_words': ['english']},\n",
       "             pre_dispatch='2*n_jobs', refit=True, return_train_score=False,\n",
       "             scoring=None, verbose=0)"
      ]
     },
     "execution_count": 433,
     "metadata": {},
     "output_type": "execute_result"
    }
   ],
   "source": [
    "# fit gridsearch\n",
    "gs.fit(X_train['title'], y_train)"
   ]
  },
  {
   "cell_type": "code",
   "execution_count": 434,
   "metadata": {},
   "outputs": [
    {
     "name": "stdout",
     "output_type": "stream",
     "text": [
      "Accuracy Score:  0.9684185436777499\n",
      "Best Hyperperameters:  {'lr__C': 1, 'lr__penalty': 'l2', 'lr__solver': 'liblinear', 'tfidf__max_df': 0.7, 'tfidf__max_features': 2000, 'tfidf__ngram_range': (1, 1), 'tfidf__stop_words': 'english'}\n"
     ]
    }
   ],
   "source": [
    "# check the best score and hyperperameters to achieve that score\n",
    "print('Accuracy Score: ',gs.best_score_)\n",
    "print('Best Hyperperameters: ', gs.best_params_) "
   ]
  },
  {
   "cell_type": "code",
   "execution_count": 435,
   "metadata": {},
   "outputs": [],
   "source": [
    "start = time.time()\n",
    "gs_predictions = gs.predict(X_test['title'])\n",
    "end = time.time()\n",
    "time_fit = end-start"
   ]
  },
  {
   "cell_type": "code",
   "execution_count": 436,
   "metadata": {},
   "outputs": [],
   "source": [
    "test_score = metrics.accuracy_score(y_test,gs_predictions)"
   ]
  },
  {
   "cell_type": "code",
   "execution_count": 437,
   "metadata": {},
   "outputs": [
    {
     "name": "stdout",
     "output_type": "stream",
     "text": [
      "Logistic - CV5 score added!\n"
     ]
    }
   ],
   "source": [
    "# use the score function to add Logistic Regression to the df\n",
    "score = score.append(add_score('Titles','TFIDF','Logistic - CV5', gs.best_params_, \n",
    "                               gs.best_score_, test_score, time_fit, 'datascience(1) & eat healthy(0)')\n",
    "                               ,ignore_index=True,)"
   ]
  },
  {
   "cell_type": "code",
   "execution_count": 440,
   "metadata": {},
   "outputs": [
    {
     "data": {
      "text/html": [
       "<div>\n",
       "<style scoped>\n",
       "    .dataframe tbody tr th:only-of-type {\n",
       "        vertical-align: middle;\n",
       "    }\n",
       "\n",
       "    .dataframe tbody tr th {\n",
       "        vertical-align: top;\n",
       "    }\n",
       "\n",
       "    .dataframe thead th {\n",
       "        text-align: right;\n",
       "    }\n",
       "</style>\n",
       "<table border=\"1\" class=\"dataframe\">\n",
       "  <thead>\n",
       "    <tr style=\"text-align: right;\">\n",
       "      <th></th>\n",
       "      <th>data</th>\n",
       "      <th>vectorizer</th>\n",
       "      <th>model</th>\n",
       "      <th>hyperparameters</th>\n",
       "      <th>train_score</th>\n",
       "      <th>test_score</th>\n",
       "      <th>change</th>\n",
       "      <th>time_fit</th>\n",
       "      <th>subreddits</th>\n",
       "    </tr>\n",
       "  </thead>\n",
       "  <tbody>\n",
       "    <tr>\n",
       "      <th>10</th>\n",
       "      <td>Titles</td>\n",
       "      <td>TFIDF</td>\n",
       "      <td>Logistic - CV5</td>\n",
       "      <td>Defaults</td>\n",
       "      <td>0.971696</td>\n",
       "      <td>0.971403</td>\n",
       "      <td>-0.000293</td>\n",
       "      <td>0.340591</td>\n",
       "      <td>datascience(1) &amp; eat healthy(0)</td>\n",
       "    </tr>\n",
       "    <tr>\n",
       "      <th>11</th>\n",
       "      <td>Titles</td>\n",
       "      <td>TFIDF</td>\n",
       "      <td>Logistic - CV5</td>\n",
       "      <td>{'lr__solver': 'lbfgs', 'tfidf__max_df': 0.7, ...</td>\n",
       "      <td>0.968419</td>\n",
       "      <td>0.966756</td>\n",
       "      <td>-0.001663</td>\n",
       "      <td>0.115476</td>\n",
       "      <td>datascience(1) &amp; eat healthy(0)</td>\n",
       "    </tr>\n",
       "    <tr>\n",
       "      <th>12</th>\n",
       "      <td>Titles</td>\n",
       "      <td>TFIDF</td>\n",
       "      <td>Logistic - CV5</td>\n",
       "      <td>{'lr__C': 1, 'lr__penalty': 'l2', 'lr__solver'...</td>\n",
       "      <td>0.968419</td>\n",
       "      <td>0.966756</td>\n",
       "      <td>-0.001663</td>\n",
       "      <td>0.115541</td>\n",
       "      <td>datascience(1) &amp; eat healthy(0)</td>\n",
       "    </tr>\n",
       "  </tbody>\n",
       "</table>\n",
       "</div>"
      ],
      "text/plain": [
       "      data vectorizer           model  \\\n",
       "10  Titles      TFIDF  Logistic - CV5   \n",
       "11  Titles      TFIDF  Logistic - CV5   \n",
       "12  Titles      TFIDF  Logistic - CV5   \n",
       "\n",
       "                                      hyperparameters  train_score  \\\n",
       "10                                           Defaults     0.971696   \n",
       "11  {'lr__solver': 'lbfgs', 'tfidf__max_df': 0.7, ...     0.968419   \n",
       "12  {'lr__C': 1, 'lr__penalty': 'l2', 'lr__solver'...     0.968419   \n",
       "\n",
       "    test_score    change  time_fit                       subreddits  \n",
       "10    0.971403 -0.000293  0.340591  datascience(1) & eat healthy(0)  \n",
       "11    0.966756 -0.001663  0.115476  datascience(1) & eat healthy(0)  \n",
       "12    0.966756 -0.001663  0.115541  datascience(1) & eat healthy(0)  "
      ]
     },
     "execution_count": 440,
     "metadata": {},
     "output_type": "execute_result"
    }
   ],
   "source": [
    "# check the df scores\n",
    "score[score['model'] == 'Logistic - CV5']"
   ]
  },
  {
   "cell_type": "code",
   "execution_count": 445,
   "metadata": {},
   "outputs": [],
   "source": [
    "# create a TFIDF Logistic Regression DF so results can be stored\n",
    "tfidf_lr_results_titles = score[score['model'] == 'Logistic - CV5']"
   ]
  },
  {
   "cell_type": "code",
   "execution_count": 495,
   "metadata": {},
   "outputs": [],
   "source": [
    "#export results\n",
    "tfidf_lr_results_titles.to_csv('./results/tfidf_lr_results_titles.csv')"
   ]
  },
  {
   "cell_type": "markdown",
   "metadata": {},
   "source": [
    "#### Tfidf Vectorizer with Logistic Regression on 'selftext' or body of the post"
   ]
  },
  {
   "cell_type": "code",
   "execution_count": 472,
   "metadata": {},
   "outputs": [],
   "source": [
    "params_2 = {\n",
    "    'tfidf__max_features' : [2000],\n",
    "    'tfidf__stop_words' : ['english'],\n",
    "    'tfidf__ngram_range' : [(1,1)],\n",
    "    'tfidf__max_df' : [.70],\n",
    "    \n",
    "     'lr__solver' : ['saga'],\n",
    "    'lr__penalty' : ['l2'],\n",
    "    'lr__C' : [1],\n",
    "    }"
   ]
  },
  {
   "cell_type": "code",
   "execution_count": 473,
   "metadata": {},
   "outputs": [],
   "source": [
    "# instantiate gridsearch on tfidf Vectorizer and Logistic Regression\n",
    "gs = GridSearchCV(pipe,\n",
    "                  params_2,\n",
    "                  cv = 5)"
   ]
  },
  {
   "cell_type": "code",
   "execution_count": 474,
   "metadata": {},
   "outputs": [
    {
     "data": {
      "text/plain": [
       "GridSearchCV(cv=5, error_score='raise-deprecating',\n",
       "             estimator=Pipeline(memory=None,\n",
       "                                steps=[('tfidf',\n",
       "                                        DenseTfidfVectorizer(analyzer='word',\n",
       "                                                             binary=False,\n",
       "                                                             decode_error='strict',\n",
       "                                                             dtype=<class 'numpy.float64'>,\n",
       "                                                             encoding='utf-8',\n",
       "                                                             input=TfidfVectorizer(analyzer='word',\n",
       "                                                                                   binary=False,\n",
       "                                                                                   decode_error='strict',\n",
       "                                                                                   dtype=<class 'numpy.float64'>,\n",
       "                                                                                   encoding='utf-8',\n",
       "                                                                                   input='content',...\n",
       "                                                           solver='warn',\n",
       "                                                           tol=0.0001,\n",
       "                                                           verbose=0,\n",
       "                                                           warm_start=False))],\n",
       "                                verbose=False),\n",
       "             iid='warn', n_jobs=None,\n",
       "             param_grid={'lr__C': [1], 'lr__penalty': ['l2'],\n",
       "                         'lr__solver': ['saga'], 'tfidf__max_df': [0.7],\n",
       "                         'tfidf__max_features': [2000],\n",
       "                         'tfidf__ngram_range': [(1, 1)],\n",
       "                         'tfidf__stop_words': ['english']},\n",
       "             pre_dispatch='2*n_jobs', refit=True, return_train_score=False,\n",
       "             scoring=None, verbose=0)"
      ]
     },
     "execution_count": 474,
     "metadata": {},
     "output_type": "execute_result"
    }
   ],
   "source": [
    "# fit gridsearch\n",
    "gs.fit(X_train['selftext'], y_train)"
   ]
  },
  {
   "cell_type": "code",
   "execution_count": 475,
   "metadata": {
    "scrolled": true
   },
   "outputs": [
    {
     "name": "stdout",
     "output_type": "stream",
     "text": [
      "Accuracy Score:  0.9869503038970325\n",
      "Best Hyperperameters:  {'lr__C': 1, 'lr__penalty': 'l2', 'lr__solver': 'saga', 'tfidf__max_df': 0.7, 'tfidf__max_features': 2000, 'tfidf__ngram_range': (1, 1), 'tfidf__stop_words': 'english'}\n"
     ]
    }
   ],
   "source": [
    "# check the best score and hyperperameters to achieve that score\n",
    "print('Accuracy Score: ',gs.best_score_)\n",
    "print('Best Hyperperameters: ', gs.best_params_)"
   ]
  },
  {
   "cell_type": "code",
   "execution_count": 476,
   "metadata": {},
   "outputs": [],
   "source": [
    "start = time.time()\n",
    "gs_predictions = gs.predict(X_test['selftext'])\n",
    "end = time.time()\n",
    "time_fit = end-start"
   ]
  },
  {
   "cell_type": "code",
   "execution_count": 477,
   "metadata": {},
   "outputs": [],
   "source": [
    "test_score = metrics.accuracy_score(y_test,gs_predictions)"
   ]
  },
  {
   "cell_type": "code",
   "execution_count": 478,
   "metadata": {},
   "outputs": [
    {
     "name": "stdout",
     "output_type": "stream",
     "text": [
      "Logistic - CV5 score added!\n"
     ]
    }
   ],
   "source": [
    "# use the score function to add Logistic Regression to the df\n",
    "score = score.append(add_score('Submissions','TFIDF','Logistic - CV5', gs.best_params_, \n",
    "                               gs.best_score_, test_score, time_fit, 'datascience(1) & eat healthy(0)')\n",
    "                               ,ignore_index=True,)"
   ]
  },
  {
   "cell_type": "code",
   "execution_count": 479,
   "metadata": {},
   "outputs": [
    {
     "data": {
      "text/html": [
       "<div>\n",
       "<style scoped>\n",
       "    .dataframe tbody tr th:only-of-type {\n",
       "        vertical-align: middle;\n",
       "    }\n",
       "\n",
       "    .dataframe tbody tr th {\n",
       "        vertical-align: top;\n",
       "    }\n",
       "\n",
       "    .dataframe thead th {\n",
       "        text-align: right;\n",
       "    }\n",
       "</style>\n",
       "<table border=\"1\" class=\"dataframe\">\n",
       "  <thead>\n",
       "    <tr style=\"text-align: right;\">\n",
       "      <th></th>\n",
       "      <th>data</th>\n",
       "      <th>vectorizer</th>\n",
       "      <th>model</th>\n",
       "      <th>hyperparameters</th>\n",
       "      <th>train_score</th>\n",
       "      <th>test_score</th>\n",
       "      <th>change</th>\n",
       "      <th>time_fit</th>\n",
       "      <th>subreddits</th>\n",
       "    </tr>\n",
       "  </thead>\n",
       "  <tbody>\n",
       "    <tr>\n",
       "      <th>10</th>\n",
       "      <td>Titles</td>\n",
       "      <td>TFIDF</td>\n",
       "      <td>Logistic - CV5</td>\n",
       "      <td>Defaults</td>\n",
       "      <td>0.971696</td>\n",
       "      <td>0.971403</td>\n",
       "      <td>-0.000293</td>\n",
       "      <td>0.340591</td>\n",
       "      <td>datascience(1) &amp; eat healthy(0)</td>\n",
       "    </tr>\n",
       "    <tr>\n",
       "      <th>11</th>\n",
       "      <td>Titles</td>\n",
       "      <td>TFIDF</td>\n",
       "      <td>Logistic - CV5</td>\n",
       "      <td>{'lr__solver': 'lbfgs', 'tfidf__max_df': 0.7, ...</td>\n",
       "      <td>0.968419</td>\n",
       "      <td>0.966756</td>\n",
       "      <td>-0.001663</td>\n",
       "      <td>0.115476</td>\n",
       "      <td>datascience(1) &amp; eat healthy(0)</td>\n",
       "    </tr>\n",
       "    <tr>\n",
       "      <th>12</th>\n",
       "      <td>Titles</td>\n",
       "      <td>TFIDF</td>\n",
       "      <td>Logistic - CV5</td>\n",
       "      <td>{'lr__C': 1, 'lr__penalty': 'l2', 'lr__solver'...</td>\n",
       "      <td>0.968419</td>\n",
       "      <td>0.966756</td>\n",
       "      <td>-0.001663</td>\n",
       "      <td>0.115541</td>\n",
       "      <td>datascience(1) &amp; eat healthy(0)</td>\n",
       "    </tr>\n",
       "    <tr>\n",
       "      <th>13</th>\n",
       "      <td>Submissions</td>\n",
       "      <td>TFIDF</td>\n",
       "      <td>Logistic - CV5</td>\n",
       "      <td>default</td>\n",
       "      <td>0.985818</td>\n",
       "      <td>0.983735</td>\n",
       "      <td>-0.002083</td>\n",
       "      <td>1.387176</td>\n",
       "      <td>datascience(1) &amp; eat healthy(0)</td>\n",
       "    </tr>\n",
       "    <tr>\n",
       "      <th>14</th>\n",
       "      <td>Submissions</td>\n",
       "      <td>TFIDF</td>\n",
       "      <td>Logistic - CV5</td>\n",
       "      <td>{'lr__C': 1, 'lr__penalty': 'l2', 'lr__solver'...</td>\n",
       "      <td>0.986950</td>\n",
       "      <td>0.983557</td>\n",
       "      <td>-0.003394</td>\n",
       "      <td>0.418481</td>\n",
       "      <td>datascience(1) &amp; eat healthy(0)</td>\n",
       "    </tr>\n",
       "    <tr>\n",
       "      <th>15</th>\n",
       "      <td>Submissions</td>\n",
       "      <td>TFIDF</td>\n",
       "      <td>Logistic - CV5</td>\n",
       "      <td>{'lr__C': 1, 'lr__penalty': 'l2', 'lr__solver'...</td>\n",
       "      <td>0.986950</td>\n",
       "      <td>0.983557</td>\n",
       "      <td>-0.003394</td>\n",
       "      <td>0.411237</td>\n",
       "      <td>datascience(1) &amp; eat healthy(0)</td>\n",
       "    </tr>\n",
       "  </tbody>\n",
       "</table>\n",
       "</div>"
      ],
      "text/plain": [
       "           data vectorizer           model  \\\n",
       "10       Titles      TFIDF  Logistic - CV5   \n",
       "11       Titles      TFIDF  Logistic - CV5   \n",
       "12       Titles      TFIDF  Logistic - CV5   \n",
       "13  Submissions      TFIDF  Logistic - CV5   \n",
       "14  Submissions      TFIDF  Logistic - CV5   \n",
       "15  Submissions      TFIDF  Logistic - CV5   \n",
       "\n",
       "                                      hyperparameters  train_score  \\\n",
       "10                                           Defaults     0.971696   \n",
       "11  {'lr__solver': 'lbfgs', 'tfidf__max_df': 0.7, ...     0.968419   \n",
       "12  {'lr__C': 1, 'lr__penalty': 'l2', 'lr__solver'...     0.968419   \n",
       "13                                            default     0.985818   \n",
       "14  {'lr__C': 1, 'lr__penalty': 'l2', 'lr__solver'...     0.986950   \n",
       "15  {'lr__C': 1, 'lr__penalty': 'l2', 'lr__solver'...     0.986950   \n",
       "\n",
       "    test_score    change  time_fit                       subreddits  \n",
       "10    0.971403 -0.000293  0.340591  datascience(1) & eat healthy(0)  \n",
       "11    0.966756 -0.001663  0.115476  datascience(1) & eat healthy(0)  \n",
       "12    0.966756 -0.001663  0.115541  datascience(1) & eat healthy(0)  \n",
       "13    0.983735 -0.002083  1.387176  datascience(1) & eat healthy(0)  \n",
       "14    0.983557 -0.003394  0.418481  datascience(1) & eat healthy(0)  \n",
       "15    0.983557 -0.003394  0.411237  datascience(1) & eat healthy(0)  "
      ]
     },
     "execution_count": 479,
     "metadata": {},
     "output_type": "execute_result"
    }
   ],
   "source": [
    "# check the df scores\n",
    "score[score['model'] == 'Logistic - CV5'].head(10)"
   ]
  },
  {
   "cell_type": "code",
   "execution_count": 480,
   "metadata": {},
   "outputs": [],
   "source": [
    "# create a TFIDF Logistic Regression DF so results can be stored\n",
    "tfidf_lr_results_subs = score[(score['model'] == 'Logistic - CV5') & (score['data'] == 'Submissions')]"
   ]
  },
  {
   "cell_type": "code",
   "execution_count": 496,
   "metadata": {},
   "outputs": [],
   "source": [
    "#export results\n",
    "tfidf_lr_results_subs.to_csv('./results/tfidf_lr_results_subs.csv')"
   ]
  },
  {
   "cell_type": "code",
   "execution_count": 534,
   "metadata": {},
   "outputs": [],
   "source": [
    "# add id column to score df\n",
    "count = 1\n",
    "score['id'] = ''\n",
    "for item in range(len(score)):\n",
    "    score.loc[item,'id'] = count\n",
    "    count += 1"
   ]
  },
  {
   "cell_type": "code",
   "execution_count": 536,
   "metadata": {},
   "outputs": [
    {
     "data": {
      "text/html": [
       "<div>\n",
       "<style scoped>\n",
       "    .dataframe tbody tr th:only-of-type {\n",
       "        vertical-align: middle;\n",
       "    }\n",
       "\n",
       "    .dataframe tbody tr th {\n",
       "        vertical-align: top;\n",
       "    }\n",
       "\n",
       "    .dataframe thead th {\n",
       "        text-align: right;\n",
       "    }\n",
       "</style>\n",
       "<table border=\"1\" class=\"dataframe\">\n",
       "  <thead>\n",
       "    <tr style=\"text-align: right;\">\n",
       "      <th></th>\n",
       "      <th>data</th>\n",
       "      <th>vectorizer</th>\n",
       "      <th>model</th>\n",
       "      <th>hyperparameters</th>\n",
       "      <th>train_score</th>\n",
       "      <th>test_score</th>\n",
       "      <th>change</th>\n",
       "      <th>time_fit</th>\n",
       "      <th>subreddits</th>\n",
       "      <th>id</th>\n",
       "    </tr>\n",
       "  </thead>\n",
       "  <tbody>\n",
       "    <tr>\n",
       "      <th>0</th>\n",
       "      <td>Titles</td>\n",
       "      <td>TFIDF</td>\n",
       "      <td>Gaussian NB</td>\n",
       "      <td>Defaults</td>\n",
       "      <td>0.934096</td>\n",
       "      <td>0.933870</td>\n",
       "      <td>-0.000227</td>\n",
       "      <td>1.578710</td>\n",
       "      <td>datascience(1) &amp; eat healthy(0)</td>\n",
       "      <td>1</td>\n",
       "    </tr>\n",
       "    <tr>\n",
       "      <th>1</th>\n",
       "      <td>Titles</td>\n",
       "      <td>TFIDF</td>\n",
       "      <td>Gaussian NB</td>\n",
       "      <td>{'tfidf__max_df': 0.9, 'tfidf__max_features': ...</td>\n",
       "      <td>0.952926</td>\n",
       "      <td>0.949062</td>\n",
       "      <td>-0.003864</td>\n",
       "      <td>0.130855</td>\n",
       "      <td>datascience(1) &amp; eat healthy(0)</td>\n",
       "      <td>2</td>\n",
       "    </tr>\n",
       "    <tr>\n",
       "      <th>2</th>\n",
       "      <td>Titles</td>\n",
       "      <td>TFIDF</td>\n",
       "      <td>Gaussian NB</td>\n",
       "      <td>{'tfidf__max_df': 0.8, 'tfidf__max_features': ...</td>\n",
       "      <td>0.958765</td>\n",
       "      <td>0.959249</td>\n",
       "      <td>0.000484</td>\n",
       "      <td>0.237315</td>\n",
       "      <td>datascience(1) &amp; eat healthy(0)</td>\n",
       "      <td>3</td>\n",
       "    </tr>\n",
       "    <tr>\n",
       "      <th>3</th>\n",
       "      <td>Titles</td>\n",
       "      <td>TFIDF</td>\n",
       "      <td>Gaussian NB</td>\n",
       "      <td>{'tfidf__max_df': 0.7, 'tfidf__max_features': ...</td>\n",
       "      <td>0.958765</td>\n",
       "      <td>0.959249</td>\n",
       "      <td>0.000484</td>\n",
       "      <td>0.206991</td>\n",
       "      <td>datascience(1) &amp; eat healthy(0)</td>\n",
       "      <td>4</td>\n",
       "    </tr>\n",
       "    <tr>\n",
       "      <th>4</th>\n",
       "      <td>Titles</td>\n",
       "      <td>TFIDF</td>\n",
       "      <td>Gaussian NB - CV5</td>\n",
       "      <td>{'tfidf__max_df': 0.7, 'tfidf__max_features': ...</td>\n",
       "      <td>0.961149</td>\n",
       "      <td>0.959249</td>\n",
       "      <td>-0.001900</td>\n",
       "      <td>0.209275</td>\n",
       "      <td>datascience(1) &amp; eat healthy(0)</td>\n",
       "      <td>5</td>\n",
       "    </tr>\n",
       "  </tbody>\n",
       "</table>\n",
       "</div>"
      ],
      "text/plain": [
       "     data vectorizer              model  \\\n",
       "0  Titles      TFIDF        Gaussian NB   \n",
       "1  Titles      TFIDF        Gaussian NB   \n",
       "2  Titles      TFIDF        Gaussian NB   \n",
       "3  Titles      TFIDF        Gaussian NB   \n",
       "4  Titles      TFIDF  Gaussian NB - CV5   \n",
       "\n",
       "                                     hyperparameters  train_score  test_score  \\\n",
       "0                                           Defaults     0.934096    0.933870   \n",
       "1  {'tfidf__max_df': 0.9, 'tfidf__max_features': ...     0.952926    0.949062   \n",
       "2  {'tfidf__max_df': 0.8, 'tfidf__max_features': ...     0.958765    0.959249   \n",
       "3  {'tfidf__max_df': 0.7, 'tfidf__max_features': ...     0.958765    0.959249   \n",
       "4  {'tfidf__max_df': 0.7, 'tfidf__max_features': ...     0.961149    0.959249   \n",
       "\n",
       "     change  time_fit                       subreddits  id  \n",
       "0 -0.000227  1.578710  datascience(1) & eat healthy(0)   1  \n",
       "1 -0.003864  0.130855  datascience(1) & eat healthy(0)   2  \n",
       "2  0.000484  0.237315  datascience(1) & eat healthy(0)   3  \n",
       "3  0.000484  0.206991  datascience(1) & eat healthy(0)   4  \n",
       "4 -0.001900  0.209275  datascience(1) & eat healthy(0)   5  "
      ]
     },
     "execution_count": 536,
     "metadata": {},
     "output_type": "execute_result"
    }
   ],
   "source": [
    "score.head()"
   ]
  },
  {
   "cell_type": "markdown",
   "metadata": {},
   "source": [
    "### Run the best model against closely related subreddits, Cooking(0) and EatCheapAndHealthy(2)"
   ]
  },
  {
   "cell_type": "code",
   "execution_count": 498,
   "metadata": {},
   "outputs": [],
   "source": [
    "# create subset df with Cooking and EatCheaplyAndHealthy subreddits called similar_binomial\n",
    "similar_binomial = data[(data['subreddit'] == 0) | (data['subreddit'] == 2)]"
   ]
  },
  {
   "cell_type": "code",
   "execution_count": 500,
   "metadata": {},
   "outputs": [],
   "source": [
    "# change EatCheapAndHealthy from 2 to 1 \n",
    "similar_binomial['subreddit'].replace(to_replace = 2, value = 1, inplace = True)"
   ]
  },
  {
   "cell_type": "code",
   "execution_count": 501,
   "metadata": {},
   "outputs": [
    {
     "data": {
      "text/plain": [
       "0    12722\n",
       "1    11532\n",
       "Name: subreddit, dtype: int64"
      ]
     },
     "execution_count": 501,
     "metadata": {},
     "output_type": "execute_result"
    }
   ],
   "source": [
    "similar_binomial['subreddit'].value_counts()"
   ]
  },
  {
   "cell_type": "code",
   "execution_count": 554,
   "metadata": {},
   "outputs": [],
   "source": [
    "# set X and y\n",
    "X = similar_binomial[['selftext','title']]\n",
    "y = similar_binomial['subreddit']"
   ]
  },
  {
   "cell_type": "code",
   "execution_count": 555,
   "metadata": {},
   "outputs": [],
   "source": [
    "#split data into train and test sets (no need to stratify, targets are balanced)\n",
    "X_train, X_test, y_train, y_test = train_test_split(X,y,random_state = 42)"
   ]
  },
  {
   "cell_type": "markdown",
   "metadata": {},
   "source": [
    "Select the best model"
   ]
  },
  {
   "cell_type": "code",
   "execution_count": 556,
   "metadata": {
    "scrolled": false
   },
   "outputs": [
    {
     "data": {
      "text/html": [
       "<div>\n",
       "<style scoped>\n",
       "    .dataframe tbody tr th:only-of-type {\n",
       "        vertical-align: middle;\n",
       "    }\n",
       "\n",
       "    .dataframe tbody tr th {\n",
       "        vertical-align: top;\n",
       "    }\n",
       "\n",
       "    .dataframe thead th {\n",
       "        text-align: right;\n",
       "    }\n",
       "</style>\n",
       "<table border=\"1\" class=\"dataframe\">\n",
       "  <thead>\n",
       "    <tr style=\"text-align: right;\">\n",
       "      <th></th>\n",
       "      <th>data</th>\n",
       "      <th>vectorizer</th>\n",
       "      <th>model</th>\n",
       "      <th>hyperparameters</th>\n",
       "      <th>train_score</th>\n",
       "      <th>test_score</th>\n",
       "      <th>change</th>\n",
       "      <th>time_fit</th>\n",
       "      <th>subreddits</th>\n",
       "      <th>id</th>\n",
       "    </tr>\n",
       "  </thead>\n",
       "  <tbody>\n",
       "    <tr>\n",
       "      <th>13</th>\n",
       "      <td>Submissions</td>\n",
       "      <td>TFIDF</td>\n",
       "      <td>Logistic - CV5</td>\n",
       "      <td>default</td>\n",
       "      <td>0.985818</td>\n",
       "      <td>0.983735</td>\n",
       "      <td>-0.002083</td>\n",
       "      <td>1.387176</td>\n",
       "      <td>datascience(1) &amp; eat healthy(0)</td>\n",
       "      <td>14</td>\n",
       "    </tr>\n",
       "    <tr>\n",
       "      <th>7</th>\n",
       "      <td>Submissions</td>\n",
       "      <td>TFIDF</td>\n",
       "      <td>Gaussian NB - CV5</td>\n",
       "      <td>{'tfidf__max_df': 0.7, 'tfidf__max_features': ...</td>\n",
       "      <td>0.983792</td>\n",
       "      <td>0.983557</td>\n",
       "      <td>-0.000235</td>\n",
       "      <td>1.149203</td>\n",
       "      <td>datascience(1) &amp; eat healthy(0)</td>\n",
       "      <td>8</td>\n",
       "    </tr>\n",
       "    <tr>\n",
       "      <th>8</th>\n",
       "      <td>Submissions</td>\n",
       "      <td>TFIDF</td>\n",
       "      <td>Gaussian NB - CV5</td>\n",
       "      <td>{'tfidf__max_df': 0.6, 'tfidf__max_features': ...</td>\n",
       "      <td>0.983792</td>\n",
       "      <td>0.983557</td>\n",
       "      <td>-0.000235</td>\n",
       "      <td>1.178886</td>\n",
       "      <td>datascience(1) &amp; eat healthy(0)</td>\n",
       "      <td>9</td>\n",
       "    </tr>\n",
       "    <tr>\n",
       "      <th>9</th>\n",
       "      <td>Submissions</td>\n",
       "      <td>TFIDF</td>\n",
       "      <td>Gaussian NB - CV5</td>\n",
       "      <td>{'tfidf__max_df': 0.6, 'tfidf__max_features': ...</td>\n",
       "      <td>0.984269</td>\n",
       "      <td>0.983557</td>\n",
       "      <td>-0.000712</td>\n",
       "      <td>1.438014</td>\n",
       "      <td>datascience(1) &amp; eat healthy(0)</td>\n",
       "      <td>10</td>\n",
       "    </tr>\n",
       "    <tr>\n",
       "      <th>14</th>\n",
       "      <td>Submissions</td>\n",
       "      <td>TFIDF</td>\n",
       "      <td>Logistic - CV5</td>\n",
       "      <td>{'lr__C': 1, 'lr__penalty': 'l2', 'lr__solver'...</td>\n",
       "      <td>0.986950</td>\n",
       "      <td>0.983557</td>\n",
       "      <td>-0.003394</td>\n",
       "      <td>0.418481</td>\n",
       "      <td>datascience(1) &amp; eat healthy(0)</td>\n",
       "      <td>15</td>\n",
       "    </tr>\n",
       "    <tr>\n",
       "      <th>15</th>\n",
       "      <td>Submissions</td>\n",
       "      <td>TFIDF</td>\n",
       "      <td>Logistic - CV5</td>\n",
       "      <td>{'lr__C': 1, 'lr__penalty': 'l2', 'lr__solver'...</td>\n",
       "      <td>0.986950</td>\n",
       "      <td>0.983557</td>\n",
       "      <td>-0.003394</td>\n",
       "      <td>0.411237</td>\n",
       "      <td>datascience(1) &amp; eat healthy(0)</td>\n",
       "      <td>16</td>\n",
       "    </tr>\n",
       "    <tr>\n",
       "      <th>6</th>\n",
       "      <td>Submissions</td>\n",
       "      <td>TFIDF</td>\n",
       "      <td>Gaussian NB - CV5</td>\n",
       "      <td>{'tfidf__max_df': 0.7, 'tfidf__max_features': ...</td>\n",
       "      <td>0.981766</td>\n",
       "      <td>0.979446</td>\n",
       "      <td>-0.002320</td>\n",
       "      <td>0.649771</td>\n",
       "      <td>datascience(1) &amp; eat healthy(0)</td>\n",
       "      <td>7</td>\n",
       "    </tr>\n",
       "    <tr>\n",
       "      <th>10</th>\n",
       "      <td>Titles</td>\n",
       "      <td>TFIDF</td>\n",
       "      <td>Logistic - CV5</td>\n",
       "      <td>Defaults</td>\n",
       "      <td>0.971696</td>\n",
       "      <td>0.971403</td>\n",
       "      <td>-0.000293</td>\n",
       "      <td>0.340591</td>\n",
       "      <td>datascience(1) &amp; eat healthy(0)</td>\n",
       "      <td>11</td>\n",
       "    </tr>\n",
       "    <tr>\n",
       "      <th>11</th>\n",
       "      <td>Titles</td>\n",
       "      <td>TFIDF</td>\n",
       "      <td>Logistic - CV5</td>\n",
       "      <td>{'lr__solver': 'lbfgs', 'tfidf__max_df': 0.7, ...</td>\n",
       "      <td>0.968419</td>\n",
       "      <td>0.966756</td>\n",
       "      <td>-0.001663</td>\n",
       "      <td>0.115476</td>\n",
       "      <td>datascience(1) &amp; eat healthy(0)</td>\n",
       "      <td>12</td>\n",
       "    </tr>\n",
       "    <tr>\n",
       "      <th>12</th>\n",
       "      <td>Titles</td>\n",
       "      <td>TFIDF</td>\n",
       "      <td>Logistic - CV5</td>\n",
       "      <td>{'lr__C': 1, 'lr__penalty': 'l2', 'lr__solver'...</td>\n",
       "      <td>0.968419</td>\n",
       "      <td>0.966756</td>\n",
       "      <td>-0.001663</td>\n",
       "      <td>0.115541</td>\n",
       "      <td>datascience(1) &amp; eat healthy(0)</td>\n",
       "      <td>13</td>\n",
       "    </tr>\n",
       "    <tr>\n",
       "      <th>2</th>\n",
       "      <td>Titles</td>\n",
       "      <td>TFIDF</td>\n",
       "      <td>Gaussian NB</td>\n",
       "      <td>{'tfidf__max_df': 0.8, 'tfidf__max_features': ...</td>\n",
       "      <td>0.958765</td>\n",
       "      <td>0.959249</td>\n",
       "      <td>0.000484</td>\n",
       "      <td>0.237315</td>\n",
       "      <td>datascience(1) &amp; eat healthy(0)</td>\n",
       "      <td>3</td>\n",
       "    </tr>\n",
       "    <tr>\n",
       "      <th>3</th>\n",
       "      <td>Titles</td>\n",
       "      <td>TFIDF</td>\n",
       "      <td>Gaussian NB</td>\n",
       "      <td>{'tfidf__max_df': 0.7, 'tfidf__max_features': ...</td>\n",
       "      <td>0.958765</td>\n",
       "      <td>0.959249</td>\n",
       "      <td>0.000484</td>\n",
       "      <td>0.206991</td>\n",
       "      <td>datascience(1) &amp; eat healthy(0)</td>\n",
       "      <td>4</td>\n",
       "    </tr>\n",
       "    <tr>\n",
       "      <th>4</th>\n",
       "      <td>Titles</td>\n",
       "      <td>TFIDF</td>\n",
       "      <td>Gaussian NB - CV5</td>\n",
       "      <td>{'tfidf__max_df': 0.7, 'tfidf__max_features': ...</td>\n",
       "      <td>0.961149</td>\n",
       "      <td>0.959249</td>\n",
       "      <td>-0.001900</td>\n",
       "      <td>0.209275</td>\n",
       "      <td>datascience(1) &amp; eat healthy(0)</td>\n",
       "      <td>5</td>\n",
       "    </tr>\n",
       "    <tr>\n",
       "      <th>1</th>\n",
       "      <td>Titles</td>\n",
       "      <td>TFIDF</td>\n",
       "      <td>Gaussian NB</td>\n",
       "      <td>{'tfidf__max_df': 0.9, 'tfidf__max_features': ...</td>\n",
       "      <td>0.952926</td>\n",
       "      <td>0.949062</td>\n",
       "      <td>-0.003864</td>\n",
       "      <td>0.130855</td>\n",
       "      <td>datascience(1) &amp; eat healthy(0)</td>\n",
       "      <td>2</td>\n",
       "    </tr>\n",
       "    <tr>\n",
       "      <th>5</th>\n",
       "      <td>Submissions</td>\n",
       "      <td>TFIDF</td>\n",
       "      <td>Gaussian NB - CV5</td>\n",
       "      <td>Defaults</td>\n",
       "      <td>0.952151</td>\n",
       "      <td>0.948704</td>\n",
       "      <td>-0.003447</td>\n",
       "      <td>5.435966</td>\n",
       "      <td>datascience(1) &amp; eat healthy(0)</td>\n",
       "      <td>6</td>\n",
       "    </tr>\n",
       "    <tr>\n",
       "      <th>0</th>\n",
       "      <td>Titles</td>\n",
       "      <td>TFIDF</td>\n",
       "      <td>Gaussian NB</td>\n",
       "      <td>Defaults</td>\n",
       "      <td>0.934096</td>\n",
       "      <td>0.933870</td>\n",
       "      <td>-0.000227</td>\n",
       "      <td>1.578710</td>\n",
       "      <td>datascience(1) &amp; eat healthy(0)</td>\n",
       "      <td>1</td>\n",
       "    </tr>\n",
       "  </tbody>\n",
       "</table>\n",
       "</div>"
      ],
      "text/plain": [
       "           data vectorizer              model  \\\n",
       "13  Submissions      TFIDF     Logistic - CV5   \n",
       "7   Submissions      TFIDF  Gaussian NB - CV5   \n",
       "8   Submissions      TFIDF  Gaussian NB - CV5   \n",
       "9   Submissions      TFIDF  Gaussian NB - CV5   \n",
       "14  Submissions      TFIDF     Logistic - CV5   \n",
       "15  Submissions      TFIDF     Logistic - CV5   \n",
       "6   Submissions      TFIDF  Gaussian NB - CV5   \n",
       "10       Titles      TFIDF     Logistic - CV5   \n",
       "11       Titles      TFIDF     Logistic - CV5   \n",
       "12       Titles      TFIDF     Logistic - CV5   \n",
       "2        Titles      TFIDF        Gaussian NB   \n",
       "3        Titles      TFIDF        Gaussian NB   \n",
       "4        Titles      TFIDF  Gaussian NB - CV5   \n",
       "1        Titles      TFIDF        Gaussian NB   \n",
       "5   Submissions      TFIDF  Gaussian NB - CV5   \n",
       "0        Titles      TFIDF        Gaussian NB   \n",
       "\n",
       "                                      hyperparameters  train_score  \\\n",
       "13                                            default     0.985818   \n",
       "7   {'tfidf__max_df': 0.7, 'tfidf__max_features': ...     0.983792   \n",
       "8   {'tfidf__max_df': 0.6, 'tfidf__max_features': ...     0.983792   \n",
       "9   {'tfidf__max_df': 0.6, 'tfidf__max_features': ...     0.984269   \n",
       "14  {'lr__C': 1, 'lr__penalty': 'l2', 'lr__solver'...     0.986950   \n",
       "15  {'lr__C': 1, 'lr__penalty': 'l2', 'lr__solver'...     0.986950   \n",
       "6   {'tfidf__max_df': 0.7, 'tfidf__max_features': ...     0.981766   \n",
       "10                                           Defaults     0.971696   \n",
       "11  {'lr__solver': 'lbfgs', 'tfidf__max_df': 0.7, ...     0.968419   \n",
       "12  {'lr__C': 1, 'lr__penalty': 'l2', 'lr__solver'...     0.968419   \n",
       "2   {'tfidf__max_df': 0.8, 'tfidf__max_features': ...     0.958765   \n",
       "3   {'tfidf__max_df': 0.7, 'tfidf__max_features': ...     0.958765   \n",
       "4   {'tfidf__max_df': 0.7, 'tfidf__max_features': ...     0.961149   \n",
       "1   {'tfidf__max_df': 0.9, 'tfidf__max_features': ...     0.952926   \n",
       "5                                            Defaults     0.952151   \n",
       "0                                            Defaults     0.934096   \n",
       "\n",
       "    test_score    change  time_fit                       subreddits  id  \n",
       "13    0.983735 -0.002083  1.387176  datascience(1) & eat healthy(0)  14  \n",
       "7     0.983557 -0.000235  1.149203  datascience(1) & eat healthy(0)   8  \n",
       "8     0.983557 -0.000235  1.178886  datascience(1) & eat healthy(0)   9  \n",
       "9     0.983557 -0.000712  1.438014  datascience(1) & eat healthy(0)  10  \n",
       "14    0.983557 -0.003394  0.418481  datascience(1) & eat healthy(0)  15  \n",
       "15    0.983557 -0.003394  0.411237  datascience(1) & eat healthy(0)  16  \n",
       "6     0.979446 -0.002320  0.649771  datascience(1) & eat healthy(0)   7  \n",
       "10    0.971403 -0.000293  0.340591  datascience(1) & eat healthy(0)  11  \n",
       "11    0.966756 -0.001663  0.115476  datascience(1) & eat healthy(0)  12  \n",
       "12    0.966756 -0.001663  0.115541  datascience(1) & eat healthy(0)  13  \n",
       "2     0.959249  0.000484  0.237315  datascience(1) & eat healthy(0)   3  \n",
       "3     0.959249  0.000484  0.206991  datascience(1) & eat healthy(0)   4  \n",
       "4     0.959249 -0.001900  0.209275  datascience(1) & eat healthy(0)   5  \n",
       "1     0.949062 -0.003864  0.130855  datascience(1) & eat healthy(0)   2  \n",
       "5     0.948704 -0.003447  5.435966  datascience(1) & eat healthy(0)   6  \n",
       "0     0.933870 -0.000227  1.578710  datascience(1) & eat healthy(0)   1  "
      ]
     },
     "execution_count": 556,
     "metadata": {},
     "output_type": "execute_result"
    }
   ],
   "source": [
    "#sort on test score\n",
    "score.sort_values(by=['test_score'],ascending=False)"
   ]
  },
  {
   "cell_type": "code",
   "execution_count": 557,
   "metadata": {},
   "outputs": [
    {
     "data": {
      "text/plain": [
       "{'lr__C': 1,\n",
       " 'lr__penalty': 'l2',\n",
       " 'lr__solver': 'saga',\n",
       " 'tfidf__max_df': 0.7,\n",
       " 'tfidf__max_features': 2000,\n",
       " 'tfidf__ngram_range': (1, 1),\n",
       " 'tfidf__stop_words': 'english'}"
      ]
     },
     "execution_count": 557,
     "metadata": {},
     "output_type": "execute_result"
    }
   ],
   "source": [
    "# locate model #15 params\n",
    "score['hyperparameters'].loc[15]"
   ]
  },
  {
   "cell_type": "markdown",
   "metadata": {},
   "source": [
    "Best model selected for accuracy and speed: model id 15\n",
    "- Run on: Submissions\t\n",
    "- Using TFIDF Vectorizer\n",
    "- Logistic Regression - CV5\t\n",
    "- Params: {'lr__C': 1,\n",
    " 'lr__penalty': 'l2',\n",
    " 'lr__solver': 'saga',\n",
    " 'tfidf__max_df': 0.7,\n",
    " 'tfidf__max_features': 2000,\n",
    " 'tfidf__ngram_range': (1, 1),\n",
    " 'tfidf__stop_words': 'english'}"
   ]
  },
  {
   "cell_type": "code",
   "execution_count": 622,
   "metadata": {},
   "outputs": [],
   "source": [
    "#Set up the pipeline for optimized TFIDF Vectorizer with Logistic Regression\n",
    "pipe = Pipeline([\n",
    "                ('tfidf', DenseTfidfVectorizer(TfidfVectorizer())),\n",
    "                ('lr', LogisticRegression())\n",
    "])"
   ]
  },
  {
   "cell_type": "code",
   "execution_count": 623,
   "metadata": {},
   "outputs": [],
   "source": [
    "params = {\n",
    "    'tfidf__max_features' : [2000],\n",
    "    'tfidf__stop_words' : ['english'],\n",
    "    'tfidf__ngram_range' : [(1,1)],\n",
    "    'tfidf__max_df' : [.70],\n",
    "    \n",
    "     'lr__solver' : ['saga'],\n",
    "    'lr__penalty' : ['l2'],\n",
    "    'lr__C' : [1],\n",
    "    }"
   ]
  },
  {
   "cell_type": "code",
   "execution_count": 624,
   "metadata": {},
   "outputs": [],
   "source": [
    "# instantiate gridsearch on tfidf Vectorizer and Logistic Regression\n",
    "gs = GridSearchCV(pipe,\n",
    "                  params,\n",
    "                  cv = 5)"
   ]
  },
  {
   "cell_type": "code",
   "execution_count": 626,
   "metadata": {},
   "outputs": [
    {
     "name": "stderr",
     "output_type": "stream",
     "text": [
      "/Users/scottrosengrants/opt/anaconda3/lib/python3.7/site-packages/sklearn/linear_model/logistic.py:469: FutureWarning: Default multi_class will be changed to 'auto' in 0.22. Specify the multi_class option to silence this warning.\n",
      "  \"this warning.\", FutureWarning)\n",
      "/Users/scottrosengrants/opt/anaconda3/lib/python3.7/site-packages/sklearn/linear_model/logistic.py:469: FutureWarning: Default multi_class will be changed to 'auto' in 0.22. Specify the multi_class option to silence this warning.\n",
      "  \"this warning.\", FutureWarning)\n",
      "/Users/scottrosengrants/opt/anaconda3/lib/python3.7/site-packages/sklearn/linear_model/logistic.py:469: FutureWarning: Default multi_class will be changed to 'auto' in 0.22. Specify the multi_class option to silence this warning.\n",
      "  \"this warning.\", FutureWarning)\n",
      "/Users/scottrosengrants/opt/anaconda3/lib/python3.7/site-packages/sklearn/linear_model/logistic.py:469: FutureWarning: Default multi_class will be changed to 'auto' in 0.22. Specify the multi_class option to silence this warning.\n",
      "  \"this warning.\", FutureWarning)\n",
      "/Users/scottrosengrants/opt/anaconda3/lib/python3.7/site-packages/sklearn/linear_model/logistic.py:469: FutureWarning: Default multi_class will be changed to 'auto' in 0.22. Specify the multi_class option to silence this warning.\n",
      "  \"this warning.\", FutureWarning)\n",
      "/Users/scottrosengrants/opt/anaconda3/lib/python3.7/site-packages/sklearn/linear_model/logistic.py:469: FutureWarning: Default multi_class will be changed to 'auto' in 0.22. Specify the multi_class option to silence this warning.\n",
      "  \"this warning.\", FutureWarning)\n"
     ]
    },
    {
     "data": {
      "text/plain": [
       "GridSearchCV(cv=5, error_score='raise-deprecating',\n",
       "             estimator=Pipeline(memory=None,\n",
       "                                steps=[('tfidf',\n",
       "                                        DenseTfidfVectorizer(analyzer='word',\n",
       "                                                             binary=False,\n",
       "                                                             decode_error='strict',\n",
       "                                                             dtype=<class 'numpy.float64'>,\n",
       "                                                             encoding='utf-8',\n",
       "                                                             input=TfidfVectorizer(analyzer='word',\n",
       "                                                                                   binary=False,\n",
       "                                                                                   decode_error='strict',\n",
       "                                                                                   dtype=<class 'numpy.float64'>,\n",
       "                                                                                   encoding='utf-8',\n",
       "                                                                                   input='content',...\n",
       "                                                           solver='warn',\n",
       "                                                           tol=0.0001,\n",
       "                                                           verbose=0,\n",
       "                                                           warm_start=False))],\n",
       "                                verbose=False),\n",
       "             iid='warn', n_jobs=None,\n",
       "             param_grid={'lr__C': [1], 'lr__penalty': ['l2'],\n",
       "                         'lr__solver': ['saga'], 'tfidf__max_df': [0.7],\n",
       "                         'tfidf__max_features': [2000],\n",
       "                         'tfidf__ngram_range': [(1, 1)],\n",
       "                         'tfidf__stop_words': ['english']},\n",
       "             pre_dispatch='2*n_jobs', refit=True, return_train_score=False,\n",
       "             scoring=None, verbose=0)"
      ]
     },
     "execution_count": 626,
     "metadata": {},
     "output_type": "execute_result"
    }
   ],
   "source": [
    "# fit gridsearch\n",
    "gs.fit(X_train['selftext'], y_train)"
   ]
  },
  {
   "cell_type": "code",
   "execution_count": 562,
   "metadata": {},
   "outputs": [
    {
     "name": "stdout",
     "output_type": "stream",
     "text": [
      "Accuracy Score:  0.8321055525013744\n",
      "Best Hyperperameters:  {'lr__C': 1, 'lr__penalty': 'l2', 'lr__solver': 'saga', 'tfidf__max_df': 0.7, 'tfidf__max_features': 2000, 'tfidf__ngram_range': (1, 1), 'tfidf__stop_words': 'english'}\n"
     ]
    }
   ],
   "source": [
    "# check the best score and hyperperameters to achieve that score\n",
    "print('Accuracy Score: ',gs.best_score_)\n",
    "print('Best Hyperperameters: ', gs.best_params_)"
   ]
  },
  {
   "cell_type": "code",
   "execution_count": 627,
   "metadata": {},
   "outputs": [],
   "source": [
    "start = time.time()\n",
    "gs_predictions = gs.predict(X_test['selftext'])\n",
    "end = time.time()\n",
    "time_fit = end-start"
   ]
  },
  {
   "cell_type": "code",
   "execution_count": 628,
   "metadata": {},
   "outputs": [],
   "source": [
    "test_score = metrics.accuracy_score(y_test,gs_predictions)"
   ]
  },
  {
   "cell_type": "code",
   "execution_count": 573,
   "metadata": {},
   "outputs": [
    {
     "name": "stdout",
     "output_type": "stream",
     "text": [
      "Logistic - CV5 score added!\n"
     ]
    }
   ],
   "source": [
    "# use the score function to add Logistic Regression to the df\n",
    "score = score.append(add_score('Submissions','TFIDF','Logistic - CV5', gs.best_params_, \n",
    "                               gs.best_score_, test_score, time_fit, 'cooking(0) & eat healthy(1)', 17.0)\n",
    "                               ,ignore_index=True,)"
   ]
  },
  {
   "cell_type": "code",
   "execution_count": 574,
   "metadata": {},
   "outputs": [
    {
     "data": {
      "text/html": [
       "<div>\n",
       "<style scoped>\n",
       "    .dataframe tbody tr th:only-of-type {\n",
       "        vertical-align: middle;\n",
       "    }\n",
       "\n",
       "    .dataframe tbody tr th {\n",
       "        vertical-align: top;\n",
       "    }\n",
       "\n",
       "    .dataframe thead th {\n",
       "        text-align: right;\n",
       "    }\n",
       "</style>\n",
       "<table border=\"1\" class=\"dataframe\">\n",
       "  <thead>\n",
       "    <tr style=\"text-align: right;\">\n",
       "      <th></th>\n",
       "      <th>data</th>\n",
       "      <th>vectorizer</th>\n",
       "      <th>model</th>\n",
       "      <th>hyperparameters</th>\n",
       "      <th>train_score</th>\n",
       "      <th>test_score</th>\n",
       "      <th>change</th>\n",
       "      <th>time_fit</th>\n",
       "      <th>subreddits</th>\n",
       "      <th>id</th>\n",
       "    </tr>\n",
       "  </thead>\n",
       "  <tbody>\n",
       "    <tr>\n",
       "      <th>0</th>\n",
       "      <td>Titles</td>\n",
       "      <td>TFIDF</td>\n",
       "      <td>Gaussian NB</td>\n",
       "      <td>Defaults</td>\n",
       "      <td>0.934096</td>\n",
       "      <td>0.933870</td>\n",
       "      <td>-0.000227</td>\n",
       "      <td>1.578710</td>\n",
       "      <td>datascience(1) &amp; eat healthy(0)</td>\n",
       "      <td>1.0</td>\n",
       "    </tr>\n",
       "    <tr>\n",
       "      <th>1</th>\n",
       "      <td>Titles</td>\n",
       "      <td>TFIDF</td>\n",
       "      <td>Gaussian NB</td>\n",
       "      <td>{'tfidf__max_df': 0.9, 'tfidf__max_features': ...</td>\n",
       "      <td>0.952926</td>\n",
       "      <td>0.949062</td>\n",
       "      <td>-0.003864</td>\n",
       "      <td>0.130855</td>\n",
       "      <td>datascience(1) &amp; eat healthy(0)</td>\n",
       "      <td>2.0</td>\n",
       "    </tr>\n",
       "    <tr>\n",
       "      <th>2</th>\n",
       "      <td>Titles</td>\n",
       "      <td>TFIDF</td>\n",
       "      <td>Gaussian NB</td>\n",
       "      <td>{'tfidf__max_df': 0.8, 'tfidf__max_features': ...</td>\n",
       "      <td>0.958765</td>\n",
       "      <td>0.959249</td>\n",
       "      <td>0.000484</td>\n",
       "      <td>0.237315</td>\n",
       "      <td>datascience(1) &amp; eat healthy(0)</td>\n",
       "      <td>3.0</td>\n",
       "    </tr>\n",
       "    <tr>\n",
       "      <th>3</th>\n",
       "      <td>Titles</td>\n",
       "      <td>TFIDF</td>\n",
       "      <td>Gaussian NB</td>\n",
       "      <td>{'tfidf__max_df': 0.7, 'tfidf__max_features': ...</td>\n",
       "      <td>0.958765</td>\n",
       "      <td>0.959249</td>\n",
       "      <td>0.000484</td>\n",
       "      <td>0.206991</td>\n",
       "      <td>datascience(1) &amp; eat healthy(0)</td>\n",
       "      <td>4.0</td>\n",
       "    </tr>\n",
       "    <tr>\n",
       "      <th>4</th>\n",
       "      <td>Titles</td>\n",
       "      <td>TFIDF</td>\n",
       "      <td>Gaussian NB - CV5</td>\n",
       "      <td>{'tfidf__max_df': 0.7, 'tfidf__max_features': ...</td>\n",
       "      <td>0.961149</td>\n",
       "      <td>0.959249</td>\n",
       "      <td>-0.001900</td>\n",
       "      <td>0.209275</td>\n",
       "      <td>datascience(1) &amp; eat healthy(0)</td>\n",
       "      <td>5.0</td>\n",
       "    </tr>\n",
       "    <tr>\n",
       "      <th>5</th>\n",
       "      <td>Submissions</td>\n",
       "      <td>TFIDF</td>\n",
       "      <td>Gaussian NB - CV5</td>\n",
       "      <td>Defaults</td>\n",
       "      <td>0.952151</td>\n",
       "      <td>0.948704</td>\n",
       "      <td>-0.003447</td>\n",
       "      <td>5.435966</td>\n",
       "      <td>datascience(1) &amp; eat healthy(0)</td>\n",
       "      <td>6.0</td>\n",
       "    </tr>\n",
       "    <tr>\n",
       "      <th>6</th>\n",
       "      <td>Submissions</td>\n",
       "      <td>TFIDF</td>\n",
       "      <td>Gaussian NB - CV5</td>\n",
       "      <td>{'tfidf__max_df': 0.7, 'tfidf__max_features': ...</td>\n",
       "      <td>0.981766</td>\n",
       "      <td>0.979446</td>\n",
       "      <td>-0.002320</td>\n",
       "      <td>0.649771</td>\n",
       "      <td>datascience(1) &amp; eat healthy(0)</td>\n",
       "      <td>7.0</td>\n",
       "    </tr>\n",
       "    <tr>\n",
       "      <th>7</th>\n",
       "      <td>Submissions</td>\n",
       "      <td>TFIDF</td>\n",
       "      <td>Gaussian NB - CV5</td>\n",
       "      <td>{'tfidf__max_df': 0.7, 'tfidf__max_features': ...</td>\n",
       "      <td>0.983792</td>\n",
       "      <td>0.983557</td>\n",
       "      <td>-0.000235</td>\n",
       "      <td>1.149203</td>\n",
       "      <td>datascience(1) &amp; eat healthy(0)</td>\n",
       "      <td>8.0</td>\n",
       "    </tr>\n",
       "    <tr>\n",
       "      <th>8</th>\n",
       "      <td>Submissions</td>\n",
       "      <td>TFIDF</td>\n",
       "      <td>Gaussian NB - CV5</td>\n",
       "      <td>{'tfidf__max_df': 0.6, 'tfidf__max_features': ...</td>\n",
       "      <td>0.983792</td>\n",
       "      <td>0.983557</td>\n",
       "      <td>-0.000235</td>\n",
       "      <td>1.178886</td>\n",
       "      <td>datascience(1) &amp; eat healthy(0)</td>\n",
       "      <td>9.0</td>\n",
       "    </tr>\n",
       "    <tr>\n",
       "      <th>9</th>\n",
       "      <td>Submissions</td>\n",
       "      <td>TFIDF</td>\n",
       "      <td>Gaussian NB - CV5</td>\n",
       "      <td>{'tfidf__max_df': 0.6, 'tfidf__max_features': ...</td>\n",
       "      <td>0.984269</td>\n",
       "      <td>0.983557</td>\n",
       "      <td>-0.000712</td>\n",
       "      <td>1.438014</td>\n",
       "      <td>datascience(1) &amp; eat healthy(0)</td>\n",
       "      <td>10.0</td>\n",
       "    </tr>\n",
       "    <tr>\n",
       "      <th>10</th>\n",
       "      <td>Titles</td>\n",
       "      <td>TFIDF</td>\n",
       "      <td>Logistic - CV5</td>\n",
       "      <td>Defaults</td>\n",
       "      <td>0.971696</td>\n",
       "      <td>0.971403</td>\n",
       "      <td>-0.000293</td>\n",
       "      <td>0.340591</td>\n",
       "      <td>datascience(1) &amp; eat healthy(0)</td>\n",
       "      <td>11.0</td>\n",
       "    </tr>\n",
       "    <tr>\n",
       "      <th>11</th>\n",
       "      <td>Titles</td>\n",
       "      <td>TFIDF</td>\n",
       "      <td>Logistic - CV5</td>\n",
       "      <td>{'lr__solver': 'lbfgs', 'tfidf__max_df': 0.7, ...</td>\n",
       "      <td>0.968419</td>\n",
       "      <td>0.966756</td>\n",
       "      <td>-0.001663</td>\n",
       "      <td>0.115476</td>\n",
       "      <td>datascience(1) &amp; eat healthy(0)</td>\n",
       "      <td>12.0</td>\n",
       "    </tr>\n",
       "    <tr>\n",
       "      <th>12</th>\n",
       "      <td>Titles</td>\n",
       "      <td>TFIDF</td>\n",
       "      <td>Logistic - CV5</td>\n",
       "      <td>{'lr__C': 1, 'lr__penalty': 'l2', 'lr__solver'...</td>\n",
       "      <td>0.968419</td>\n",
       "      <td>0.966756</td>\n",
       "      <td>-0.001663</td>\n",
       "      <td>0.115541</td>\n",
       "      <td>datascience(1) &amp; eat healthy(0)</td>\n",
       "      <td>13.0</td>\n",
       "    </tr>\n",
       "    <tr>\n",
       "      <th>13</th>\n",
       "      <td>Submissions</td>\n",
       "      <td>TFIDF</td>\n",
       "      <td>Logistic - CV5</td>\n",
       "      <td>default</td>\n",
       "      <td>0.985818</td>\n",
       "      <td>0.983735</td>\n",
       "      <td>-0.002083</td>\n",
       "      <td>1.387176</td>\n",
       "      <td>datascience(1) &amp; eat healthy(0)</td>\n",
       "      <td>14.0</td>\n",
       "    </tr>\n",
       "    <tr>\n",
       "      <th>14</th>\n",
       "      <td>Submissions</td>\n",
       "      <td>TFIDF</td>\n",
       "      <td>Logistic - CV5</td>\n",
       "      <td>{'lr__C': 1, 'lr__penalty': 'l2', 'lr__solver'...</td>\n",
       "      <td>0.986950</td>\n",
       "      <td>0.983557</td>\n",
       "      <td>-0.003394</td>\n",
       "      <td>0.418481</td>\n",
       "      <td>datascience(1) &amp; eat healthy(0)</td>\n",
       "      <td>15.0</td>\n",
       "    </tr>\n",
       "    <tr>\n",
       "      <th>15</th>\n",
       "      <td>Submissions</td>\n",
       "      <td>TFIDF</td>\n",
       "      <td>Logistic - CV5</td>\n",
       "      <td>{'lr__C': 1, 'lr__penalty': 'l2', 'lr__solver'...</td>\n",
       "      <td>0.986950</td>\n",
       "      <td>0.983557</td>\n",
       "      <td>-0.003394</td>\n",
       "      <td>0.411237</td>\n",
       "      <td>datascience(1) &amp; eat healthy(0)</td>\n",
       "      <td>16.0</td>\n",
       "    </tr>\n",
       "    <tr>\n",
       "      <th>16</th>\n",
       "      <td>Submissions</td>\n",
       "      <td>TFIDF</td>\n",
       "      <td>Logistic - CV5</td>\n",
       "      <td>{'lr__C': 1, 'lr__penalty': 'l2', 'lr__solver'...</td>\n",
       "      <td>0.832106</td>\n",
       "      <td>0.841194</td>\n",
       "      <td>0.009088</td>\n",
       "      <td>0.380614</td>\n",
       "      <td>cooking(0) &amp; eat healthy(1)</td>\n",
       "      <td>17.0</td>\n",
       "    </tr>\n",
       "  </tbody>\n",
       "</table>\n",
       "</div>"
      ],
      "text/plain": [
       "           data vectorizer              model  \\\n",
       "0        Titles      TFIDF        Gaussian NB   \n",
       "1        Titles      TFIDF        Gaussian NB   \n",
       "2        Titles      TFIDF        Gaussian NB   \n",
       "3        Titles      TFIDF        Gaussian NB   \n",
       "4        Titles      TFIDF  Gaussian NB - CV5   \n",
       "5   Submissions      TFIDF  Gaussian NB - CV5   \n",
       "6   Submissions      TFIDF  Gaussian NB - CV5   \n",
       "7   Submissions      TFIDF  Gaussian NB - CV5   \n",
       "8   Submissions      TFIDF  Gaussian NB - CV5   \n",
       "9   Submissions      TFIDF  Gaussian NB - CV5   \n",
       "10       Titles      TFIDF     Logistic - CV5   \n",
       "11       Titles      TFIDF     Logistic - CV5   \n",
       "12       Titles      TFIDF     Logistic - CV5   \n",
       "13  Submissions      TFIDF     Logistic - CV5   \n",
       "14  Submissions      TFIDF     Logistic - CV5   \n",
       "15  Submissions      TFIDF     Logistic - CV5   \n",
       "16  Submissions      TFIDF     Logistic - CV5   \n",
       "\n",
       "                                      hyperparameters  train_score  \\\n",
       "0                                            Defaults     0.934096   \n",
       "1   {'tfidf__max_df': 0.9, 'tfidf__max_features': ...     0.952926   \n",
       "2   {'tfidf__max_df': 0.8, 'tfidf__max_features': ...     0.958765   \n",
       "3   {'tfidf__max_df': 0.7, 'tfidf__max_features': ...     0.958765   \n",
       "4   {'tfidf__max_df': 0.7, 'tfidf__max_features': ...     0.961149   \n",
       "5                                            Defaults     0.952151   \n",
       "6   {'tfidf__max_df': 0.7, 'tfidf__max_features': ...     0.981766   \n",
       "7   {'tfidf__max_df': 0.7, 'tfidf__max_features': ...     0.983792   \n",
       "8   {'tfidf__max_df': 0.6, 'tfidf__max_features': ...     0.983792   \n",
       "9   {'tfidf__max_df': 0.6, 'tfidf__max_features': ...     0.984269   \n",
       "10                                           Defaults     0.971696   \n",
       "11  {'lr__solver': 'lbfgs', 'tfidf__max_df': 0.7, ...     0.968419   \n",
       "12  {'lr__C': 1, 'lr__penalty': 'l2', 'lr__solver'...     0.968419   \n",
       "13                                            default     0.985818   \n",
       "14  {'lr__C': 1, 'lr__penalty': 'l2', 'lr__solver'...     0.986950   \n",
       "15  {'lr__C': 1, 'lr__penalty': 'l2', 'lr__solver'...     0.986950   \n",
       "16  {'lr__C': 1, 'lr__penalty': 'l2', 'lr__solver'...     0.832106   \n",
       "\n",
       "    test_score    change  time_fit                       subreddits    id  \n",
       "0     0.933870 -0.000227  1.578710  datascience(1) & eat healthy(0)   1.0  \n",
       "1     0.949062 -0.003864  0.130855  datascience(1) & eat healthy(0)   2.0  \n",
       "2     0.959249  0.000484  0.237315  datascience(1) & eat healthy(0)   3.0  \n",
       "3     0.959249  0.000484  0.206991  datascience(1) & eat healthy(0)   4.0  \n",
       "4     0.959249 -0.001900  0.209275  datascience(1) & eat healthy(0)   5.0  \n",
       "5     0.948704 -0.003447  5.435966  datascience(1) & eat healthy(0)   6.0  \n",
       "6     0.979446 -0.002320  0.649771  datascience(1) & eat healthy(0)   7.0  \n",
       "7     0.983557 -0.000235  1.149203  datascience(1) & eat healthy(0)   8.0  \n",
       "8     0.983557 -0.000235  1.178886  datascience(1) & eat healthy(0)   9.0  \n",
       "9     0.983557 -0.000712  1.438014  datascience(1) & eat healthy(0)  10.0  \n",
       "10    0.971403 -0.000293  0.340591  datascience(1) & eat healthy(0)  11.0  \n",
       "11    0.966756 -0.001663  0.115476  datascience(1) & eat healthy(0)  12.0  \n",
       "12    0.966756 -0.001663  0.115541  datascience(1) & eat healthy(0)  13.0  \n",
       "13    0.983735 -0.002083  1.387176  datascience(1) & eat healthy(0)  14.0  \n",
       "14    0.983557 -0.003394  0.418481  datascience(1) & eat healthy(0)  15.0  \n",
       "15    0.983557 -0.003394  0.411237  datascience(1) & eat healthy(0)  16.0  \n",
       "16    0.841194  0.009088  0.380614      cooking(0) & eat healthy(1)  17.0  "
      ]
     },
     "execution_count": 574,
     "metadata": {},
     "output_type": "execute_result"
    }
   ],
   "source": [
    "score.head(20)"
   ]
  },
  {
   "cell_type": "code",
   "execution_count": null,
   "metadata": {},
   "outputs": [],
   "source": []
  },
  {
   "cell_type": "code",
   "execution_count": null,
   "metadata": {},
   "outputs": [],
   "source": []
  },
  {
   "cell_type": "markdown",
   "metadata": {},
   "source": [
    "### Run multi-classification prediction models\n",
    "\n",
    "#### Tfidf Vectorizer with Support Vector on 'title' with Datascience, EatCheapAndHealthy, Cooking, and Keto subreddits"
   ]
  },
  {
   "cell_type": "markdown",
   "metadata": {},
   "source": [
    "**Target Column 'subreddit' values:**\n",
    "\n",
    "   - Cooking: 0\n",
    "   - Keto: 1\n",
    "   - EatCheapAndHealthy: 2\n",
    "   - DIY: 3\n",
    "   - DataScience: 4"
   ]
  },
  {
   "cell_type": "code",
   "execution_count": 578,
   "metadata": {},
   "outputs": [],
   "source": [
    "#use the full data set 'data' but reduce the row size (helps not overburden the SVM)\n",
    "SVM_data = data.sample(20000, random_state=42)\n",
    "# set X and y\n",
    "X = SVM_data[['selftext','title']]\n",
    "y = SVM_data['subreddit']"
   ]
  },
  {
   "cell_type": "code",
   "execution_count": 577,
   "metadata": {},
   "outputs": [
    {
     "data": {
      "text/plain": [
       "28682    2\n",
       "50163    4\n",
       "46088    3\n",
       "18809    1\n",
       "9956     0\n",
       "        ..\n",
       "28477    1\n",
       "48912    3\n",
       "29684    2\n",
       "7219     0\n",
       "55057    4\n",
       "Name: subreddit, Length: 20000, dtype: int64"
      ]
     },
     "execution_count": 577,
     "metadata": {},
     "output_type": "execute_result"
    }
   ],
   "source": [
    "SVM_data['subreddit']"
   ]
  },
  {
   "cell_type": "code",
   "execution_count": 579,
   "metadata": {},
   "outputs": [],
   "source": [
    "#split data into train and test sets (no need to stratify, targets are fairly balanced)\n",
    "X_train, X_test, y_train, y_test = train_test_split(X,y,random_state = 42)"
   ]
  },
  {
   "cell_type": "code",
   "execution_count": 580,
   "metadata": {},
   "outputs": [],
   "source": [
    "#Set up the pipeline for TFIDF Vectorizer with SVM classifier\n",
    "pipe = Pipeline([\n",
    "                ('tfidf', DenseTfidfVectorizer(TfidfVectorizer())),\n",
    "                ('svc', SVC())\n",
    "])"
   ]
  },
  {
   "cell_type": "code",
   "execution_count": 581,
   "metadata": {},
   "outputs": [],
   "source": [
    "# use the tfidf optimized parameters\n",
    "params = {\n",
    "    'tfidf__max_features' : [2000],\n",
    "    'tfidf__stop_words' : ['english'],\n",
    "    'tfidf__ngram_range' : [(1,1)],\n",
    "    'tfidf__max_df' : [.70],\n",
    "    \n",
    "    'svc__gamma' : ['scale']\n",
    "    }"
   ]
  },
  {
   "cell_type": "code",
   "execution_count": 582,
   "metadata": {},
   "outputs": [],
   "source": [
    "# instantiate gridsearch on tfidf Vectorizer and SVM\n",
    "gs = GridSearchCV(pipe,\n",
    "                  params,\n",
    "                  cv = 5)"
   ]
  },
  {
   "cell_type": "code",
   "execution_count": 583,
   "metadata": {},
   "outputs": [
    {
     "data": {
      "text/plain": [
       "GridSearchCV(cv=5, error_score='raise-deprecating',\n",
       "             estimator=Pipeline(memory=None,\n",
       "                                steps=[('tfidf',\n",
       "                                        DenseTfidfVectorizer(analyzer='word',\n",
       "                                                             binary=False,\n",
       "                                                             decode_error='strict',\n",
       "                                                             dtype=<class 'numpy.float64'>,\n",
       "                                                             encoding='utf-8',\n",
       "                                                             input=TfidfVectorizer(analyzer='word',\n",
       "                                                                                   binary=False,\n",
       "                                                                                   decode_error='strict',\n",
       "                                                                                   dtype=<class 'numpy.float64'>,\n",
       "                                                                                   encoding='utf-8',\n",
       "                                                                                   input='content',...\n",
       "                                            kernel='rbf', max_iter=-1,\n",
       "                                            probability=False,\n",
       "                                            random_state=None, shrinking=True,\n",
       "                                            tol=0.001, verbose=False))],\n",
       "                                verbose=False),\n",
       "             iid='warn', n_jobs=None,\n",
       "             param_grid={'svc__gamma': ['scale'], 'tfidf__max_df': [0.7],\n",
       "                         'tfidf__max_features': [2000],\n",
       "                         'tfidf__ngram_range': [(1, 1)],\n",
       "                         'tfidf__stop_words': ['english']},\n",
       "             pre_dispatch='2*n_jobs', refit=True, return_train_score=False,\n",
       "             scoring=None, verbose=0)"
      ]
     },
     "execution_count": 583,
     "metadata": {},
     "output_type": "execute_result"
    }
   ],
   "source": [
    "# fit gridsearch on title data\n",
    "gs.fit(X_train['title'], y_train)"
   ]
  },
  {
   "cell_type": "code",
   "execution_count": 584,
   "metadata": {},
   "outputs": [
    {
     "name": "stdout",
     "output_type": "stream",
     "text": [
      "Accuracy Score:  0.7650666666666667\n",
      "Best Hyperperameters:  {'svc__gamma': 'scale', 'tfidf__max_df': 0.7, 'tfidf__max_features': 2000, 'tfidf__ngram_range': (1, 1), 'tfidf__stop_words': 'english'}\n"
     ]
    }
   ],
   "source": [
    "# check the best score and hyperperameters to achieve that score\n",
    "print('Accuracy Score: ',gs.best_score_)\n",
    "print('Best Hyperperameters: ', gs.best_params_)"
   ]
  },
  {
   "cell_type": "code",
   "execution_count": 585,
   "metadata": {},
   "outputs": [],
   "source": [
    "start = time.time()\n",
    "gs_predictions = gs.predict(X_test['selftext'])\n",
    "end = time.time()\n",
    "time_fit = end-start"
   ]
  },
  {
   "cell_type": "code",
   "execution_count": 586,
   "metadata": {},
   "outputs": [
    {
     "name": "stdout",
     "output_type": "stream",
     "text": [
      "SVC - CV5 score added!\n"
     ]
    }
   ],
   "source": [
    "# use the score function to add SVM to the df\n",
    "score = score.append(add_score('Submissions','TFIDF','SVC - CV5', gs.best_params_, \n",
    "                               gs.best_score_, test_score, time_fit, \n",
    "                               'cooking(0), keto(1), eat healthy(2), DIY(3), datascience(4)', 18.0)\n",
    "                               ,ignore_index=True,)"
   ]
  },
  {
   "cell_type": "code",
   "execution_count": 587,
   "metadata": {},
   "outputs": [
    {
     "data": {
      "text/html": [
       "<div>\n",
       "<style scoped>\n",
       "    .dataframe tbody tr th:only-of-type {\n",
       "        vertical-align: middle;\n",
       "    }\n",
       "\n",
       "    .dataframe tbody tr th {\n",
       "        vertical-align: top;\n",
       "    }\n",
       "\n",
       "    .dataframe thead th {\n",
       "        text-align: right;\n",
       "    }\n",
       "</style>\n",
       "<table border=\"1\" class=\"dataframe\">\n",
       "  <thead>\n",
       "    <tr style=\"text-align: right;\">\n",
       "      <th></th>\n",
       "      <th>data</th>\n",
       "      <th>vectorizer</th>\n",
       "      <th>model</th>\n",
       "      <th>hyperparameters</th>\n",
       "      <th>train_score</th>\n",
       "      <th>test_score</th>\n",
       "      <th>change</th>\n",
       "      <th>time_fit</th>\n",
       "      <th>subreddits</th>\n",
       "      <th>id</th>\n",
       "    </tr>\n",
       "  </thead>\n",
       "  <tbody>\n",
       "    <tr>\n",
       "      <th>0</th>\n",
       "      <td>Titles</td>\n",
       "      <td>TFIDF</td>\n",
       "      <td>Gaussian NB</td>\n",
       "      <td>Defaults</td>\n",
       "      <td>0.934096</td>\n",
       "      <td>0.933870</td>\n",
       "      <td>-0.000227</td>\n",
       "      <td>1.578710</td>\n",
       "      <td>datascience(1) &amp; eat healthy(0)</td>\n",
       "      <td>1.0</td>\n",
       "    </tr>\n",
       "    <tr>\n",
       "      <th>1</th>\n",
       "      <td>Titles</td>\n",
       "      <td>TFIDF</td>\n",
       "      <td>Gaussian NB</td>\n",
       "      <td>{'tfidf__max_df': 0.9, 'tfidf__max_features': ...</td>\n",
       "      <td>0.952926</td>\n",
       "      <td>0.949062</td>\n",
       "      <td>-0.003864</td>\n",
       "      <td>0.130855</td>\n",
       "      <td>datascience(1) &amp; eat healthy(0)</td>\n",
       "      <td>2.0</td>\n",
       "    </tr>\n",
       "    <tr>\n",
       "      <th>2</th>\n",
       "      <td>Titles</td>\n",
       "      <td>TFIDF</td>\n",
       "      <td>Gaussian NB</td>\n",
       "      <td>{'tfidf__max_df': 0.8, 'tfidf__max_features': ...</td>\n",
       "      <td>0.958765</td>\n",
       "      <td>0.959249</td>\n",
       "      <td>0.000484</td>\n",
       "      <td>0.237315</td>\n",
       "      <td>datascience(1) &amp; eat healthy(0)</td>\n",
       "      <td>3.0</td>\n",
       "    </tr>\n",
       "    <tr>\n",
       "      <th>3</th>\n",
       "      <td>Titles</td>\n",
       "      <td>TFIDF</td>\n",
       "      <td>Gaussian NB</td>\n",
       "      <td>{'tfidf__max_df': 0.7, 'tfidf__max_features': ...</td>\n",
       "      <td>0.958765</td>\n",
       "      <td>0.959249</td>\n",
       "      <td>0.000484</td>\n",
       "      <td>0.206991</td>\n",
       "      <td>datascience(1) &amp; eat healthy(0)</td>\n",
       "      <td>4.0</td>\n",
       "    </tr>\n",
       "    <tr>\n",
       "      <th>4</th>\n",
       "      <td>Titles</td>\n",
       "      <td>TFIDF</td>\n",
       "      <td>Gaussian NB - CV5</td>\n",
       "      <td>{'tfidf__max_df': 0.7, 'tfidf__max_features': ...</td>\n",
       "      <td>0.961149</td>\n",
       "      <td>0.959249</td>\n",
       "      <td>-0.001900</td>\n",
       "      <td>0.209275</td>\n",
       "      <td>datascience(1) &amp; eat healthy(0)</td>\n",
       "      <td>5.0</td>\n",
       "    </tr>\n",
       "    <tr>\n",
       "      <th>5</th>\n",
       "      <td>Submissions</td>\n",
       "      <td>TFIDF</td>\n",
       "      <td>Gaussian NB - CV5</td>\n",
       "      <td>Defaults</td>\n",
       "      <td>0.952151</td>\n",
       "      <td>0.948704</td>\n",
       "      <td>-0.003447</td>\n",
       "      <td>5.435966</td>\n",
       "      <td>datascience(1) &amp; eat healthy(0)</td>\n",
       "      <td>6.0</td>\n",
       "    </tr>\n",
       "    <tr>\n",
       "      <th>6</th>\n",
       "      <td>Submissions</td>\n",
       "      <td>TFIDF</td>\n",
       "      <td>Gaussian NB - CV5</td>\n",
       "      <td>{'tfidf__max_df': 0.7, 'tfidf__max_features': ...</td>\n",
       "      <td>0.981766</td>\n",
       "      <td>0.979446</td>\n",
       "      <td>-0.002320</td>\n",
       "      <td>0.649771</td>\n",
       "      <td>datascience(1) &amp; eat healthy(0)</td>\n",
       "      <td>7.0</td>\n",
       "    </tr>\n",
       "    <tr>\n",
       "      <th>7</th>\n",
       "      <td>Submissions</td>\n",
       "      <td>TFIDF</td>\n",
       "      <td>Gaussian NB - CV5</td>\n",
       "      <td>{'tfidf__max_df': 0.7, 'tfidf__max_features': ...</td>\n",
       "      <td>0.983792</td>\n",
       "      <td>0.983557</td>\n",
       "      <td>-0.000235</td>\n",
       "      <td>1.149203</td>\n",
       "      <td>datascience(1) &amp; eat healthy(0)</td>\n",
       "      <td>8.0</td>\n",
       "    </tr>\n",
       "    <tr>\n",
       "      <th>8</th>\n",
       "      <td>Submissions</td>\n",
       "      <td>TFIDF</td>\n",
       "      <td>Gaussian NB - CV5</td>\n",
       "      <td>{'tfidf__max_df': 0.6, 'tfidf__max_features': ...</td>\n",
       "      <td>0.983792</td>\n",
       "      <td>0.983557</td>\n",
       "      <td>-0.000235</td>\n",
       "      <td>1.178886</td>\n",
       "      <td>datascience(1) &amp; eat healthy(0)</td>\n",
       "      <td>9.0</td>\n",
       "    </tr>\n",
       "    <tr>\n",
       "      <th>9</th>\n",
       "      <td>Submissions</td>\n",
       "      <td>TFIDF</td>\n",
       "      <td>Gaussian NB - CV5</td>\n",
       "      <td>{'tfidf__max_df': 0.6, 'tfidf__max_features': ...</td>\n",
       "      <td>0.984269</td>\n",
       "      <td>0.983557</td>\n",
       "      <td>-0.000712</td>\n",
       "      <td>1.438014</td>\n",
       "      <td>datascience(1) &amp; eat healthy(0)</td>\n",
       "      <td>10.0</td>\n",
       "    </tr>\n",
       "    <tr>\n",
       "      <th>10</th>\n",
       "      <td>Titles</td>\n",
       "      <td>TFIDF</td>\n",
       "      <td>Logistic - CV5</td>\n",
       "      <td>Defaults</td>\n",
       "      <td>0.971696</td>\n",
       "      <td>0.971403</td>\n",
       "      <td>-0.000293</td>\n",
       "      <td>0.340591</td>\n",
       "      <td>datascience(1) &amp; eat healthy(0)</td>\n",
       "      <td>11.0</td>\n",
       "    </tr>\n",
       "    <tr>\n",
       "      <th>11</th>\n",
       "      <td>Titles</td>\n",
       "      <td>TFIDF</td>\n",
       "      <td>Logistic - CV5</td>\n",
       "      <td>{'lr__solver': 'lbfgs', 'tfidf__max_df': 0.7, ...</td>\n",
       "      <td>0.968419</td>\n",
       "      <td>0.966756</td>\n",
       "      <td>-0.001663</td>\n",
       "      <td>0.115476</td>\n",
       "      <td>datascience(1) &amp; eat healthy(0)</td>\n",
       "      <td>12.0</td>\n",
       "    </tr>\n",
       "    <tr>\n",
       "      <th>12</th>\n",
       "      <td>Titles</td>\n",
       "      <td>TFIDF</td>\n",
       "      <td>Logistic - CV5</td>\n",
       "      <td>{'lr__C': 1, 'lr__penalty': 'l2', 'lr__solver'...</td>\n",
       "      <td>0.968419</td>\n",
       "      <td>0.966756</td>\n",
       "      <td>-0.001663</td>\n",
       "      <td>0.115541</td>\n",
       "      <td>datascience(1) &amp; eat healthy(0)</td>\n",
       "      <td>13.0</td>\n",
       "    </tr>\n",
       "    <tr>\n",
       "      <th>13</th>\n",
       "      <td>Submissions</td>\n",
       "      <td>TFIDF</td>\n",
       "      <td>Logistic - CV5</td>\n",
       "      <td>default</td>\n",
       "      <td>0.985818</td>\n",
       "      <td>0.983735</td>\n",
       "      <td>-0.002083</td>\n",
       "      <td>1.387176</td>\n",
       "      <td>datascience(1) &amp; eat healthy(0)</td>\n",
       "      <td>14.0</td>\n",
       "    </tr>\n",
       "    <tr>\n",
       "      <th>14</th>\n",
       "      <td>Submissions</td>\n",
       "      <td>TFIDF</td>\n",
       "      <td>Logistic - CV5</td>\n",
       "      <td>{'lr__C': 1, 'lr__penalty': 'l2', 'lr__solver'...</td>\n",
       "      <td>0.986950</td>\n",
       "      <td>0.983557</td>\n",
       "      <td>-0.003394</td>\n",
       "      <td>0.418481</td>\n",
       "      <td>datascience(1) &amp; eat healthy(0)</td>\n",
       "      <td>15.0</td>\n",
       "    </tr>\n",
       "    <tr>\n",
       "      <th>15</th>\n",
       "      <td>Submissions</td>\n",
       "      <td>TFIDF</td>\n",
       "      <td>Logistic - CV5</td>\n",
       "      <td>{'lr__C': 1, 'lr__penalty': 'l2', 'lr__solver'...</td>\n",
       "      <td>0.986950</td>\n",
       "      <td>0.983557</td>\n",
       "      <td>-0.003394</td>\n",
       "      <td>0.411237</td>\n",
       "      <td>datascience(1) &amp; eat healthy(0)</td>\n",
       "      <td>16.0</td>\n",
       "    </tr>\n",
       "    <tr>\n",
       "      <th>16</th>\n",
       "      <td>Submissions</td>\n",
       "      <td>TFIDF</td>\n",
       "      <td>Logistic - CV5</td>\n",
       "      <td>{'lr__C': 1, 'lr__penalty': 'l2', 'lr__solver'...</td>\n",
       "      <td>0.832106</td>\n",
       "      <td>0.841194</td>\n",
       "      <td>0.009088</td>\n",
       "      <td>0.380614</td>\n",
       "      <td>cooking(0) &amp; eat healthy(1)</td>\n",
       "      <td>17.0</td>\n",
       "    </tr>\n",
       "    <tr>\n",
       "      <th>17</th>\n",
       "      <td>Submissions</td>\n",
       "      <td>TFIDF</td>\n",
       "      <td>SVC - CV5</td>\n",
       "      <td>{'svc__gamma': 'scale', 'tfidf__max_df': 0.7, ...</td>\n",
       "      <td>0.765067</td>\n",
       "      <td>0.841194</td>\n",
       "      <td>0.076127</td>\n",
       "      <td>120.162866</td>\n",
       "      <td>cooking(0), keto(1), eat healthy(2), DIY(3), d...</td>\n",
       "      <td>18.0</td>\n",
       "    </tr>\n",
       "  </tbody>\n",
       "</table>\n",
       "</div>"
      ],
      "text/plain": [
       "           data vectorizer              model  \\\n",
       "0        Titles      TFIDF        Gaussian NB   \n",
       "1        Titles      TFIDF        Gaussian NB   \n",
       "2        Titles      TFIDF        Gaussian NB   \n",
       "3        Titles      TFIDF        Gaussian NB   \n",
       "4        Titles      TFIDF  Gaussian NB - CV5   \n",
       "5   Submissions      TFIDF  Gaussian NB - CV5   \n",
       "6   Submissions      TFIDF  Gaussian NB - CV5   \n",
       "7   Submissions      TFIDF  Gaussian NB - CV5   \n",
       "8   Submissions      TFIDF  Gaussian NB - CV5   \n",
       "9   Submissions      TFIDF  Gaussian NB - CV5   \n",
       "10       Titles      TFIDF     Logistic - CV5   \n",
       "11       Titles      TFIDF     Logistic - CV5   \n",
       "12       Titles      TFIDF     Logistic - CV5   \n",
       "13  Submissions      TFIDF     Logistic - CV5   \n",
       "14  Submissions      TFIDF     Logistic - CV5   \n",
       "15  Submissions      TFIDF     Logistic - CV5   \n",
       "16  Submissions      TFIDF     Logistic - CV5   \n",
       "17  Submissions      TFIDF          SVC - CV5   \n",
       "\n",
       "                                      hyperparameters  train_score  \\\n",
       "0                                            Defaults     0.934096   \n",
       "1   {'tfidf__max_df': 0.9, 'tfidf__max_features': ...     0.952926   \n",
       "2   {'tfidf__max_df': 0.8, 'tfidf__max_features': ...     0.958765   \n",
       "3   {'tfidf__max_df': 0.7, 'tfidf__max_features': ...     0.958765   \n",
       "4   {'tfidf__max_df': 0.7, 'tfidf__max_features': ...     0.961149   \n",
       "5                                            Defaults     0.952151   \n",
       "6   {'tfidf__max_df': 0.7, 'tfidf__max_features': ...     0.981766   \n",
       "7   {'tfidf__max_df': 0.7, 'tfidf__max_features': ...     0.983792   \n",
       "8   {'tfidf__max_df': 0.6, 'tfidf__max_features': ...     0.983792   \n",
       "9   {'tfidf__max_df': 0.6, 'tfidf__max_features': ...     0.984269   \n",
       "10                                           Defaults     0.971696   \n",
       "11  {'lr__solver': 'lbfgs', 'tfidf__max_df': 0.7, ...     0.968419   \n",
       "12  {'lr__C': 1, 'lr__penalty': 'l2', 'lr__solver'...     0.968419   \n",
       "13                                            default     0.985818   \n",
       "14  {'lr__C': 1, 'lr__penalty': 'l2', 'lr__solver'...     0.986950   \n",
       "15  {'lr__C': 1, 'lr__penalty': 'l2', 'lr__solver'...     0.986950   \n",
       "16  {'lr__C': 1, 'lr__penalty': 'l2', 'lr__solver'...     0.832106   \n",
       "17  {'svc__gamma': 'scale', 'tfidf__max_df': 0.7, ...     0.765067   \n",
       "\n",
       "    test_score    change    time_fit  \\\n",
       "0     0.933870 -0.000227    1.578710   \n",
       "1     0.949062 -0.003864    0.130855   \n",
       "2     0.959249  0.000484    0.237315   \n",
       "3     0.959249  0.000484    0.206991   \n",
       "4     0.959249 -0.001900    0.209275   \n",
       "5     0.948704 -0.003447    5.435966   \n",
       "6     0.979446 -0.002320    0.649771   \n",
       "7     0.983557 -0.000235    1.149203   \n",
       "8     0.983557 -0.000235    1.178886   \n",
       "9     0.983557 -0.000712    1.438014   \n",
       "10    0.971403 -0.000293    0.340591   \n",
       "11    0.966756 -0.001663    0.115476   \n",
       "12    0.966756 -0.001663    0.115541   \n",
       "13    0.983735 -0.002083    1.387176   \n",
       "14    0.983557 -0.003394    0.418481   \n",
       "15    0.983557 -0.003394    0.411237   \n",
       "16    0.841194  0.009088    0.380614   \n",
       "17    0.841194  0.076127  120.162866   \n",
       "\n",
       "                                           subreddits    id  \n",
       "0                     datascience(1) & eat healthy(0)   1.0  \n",
       "1                     datascience(1) & eat healthy(0)   2.0  \n",
       "2                     datascience(1) & eat healthy(0)   3.0  \n",
       "3                     datascience(1) & eat healthy(0)   4.0  \n",
       "4                     datascience(1) & eat healthy(0)   5.0  \n",
       "5                     datascience(1) & eat healthy(0)   6.0  \n",
       "6                     datascience(1) & eat healthy(0)   7.0  \n",
       "7                     datascience(1) & eat healthy(0)   8.0  \n",
       "8                     datascience(1) & eat healthy(0)   9.0  \n",
       "9                     datascience(1) & eat healthy(0)  10.0  \n",
       "10                    datascience(1) & eat healthy(0)  11.0  \n",
       "11                    datascience(1) & eat healthy(0)  12.0  \n",
       "12                    datascience(1) & eat healthy(0)  13.0  \n",
       "13                    datascience(1) & eat healthy(0)  14.0  \n",
       "14                    datascience(1) & eat healthy(0)  15.0  \n",
       "15                    datascience(1) & eat healthy(0)  16.0  \n",
       "16                        cooking(0) & eat healthy(1)  17.0  \n",
       "17  cooking(0), keto(1), eat healthy(2), DIY(3), d...  18.0  "
      ]
     },
     "execution_count": 587,
     "metadata": {},
     "output_type": "execute_result"
    }
   ],
   "source": [
    "score.head(20)"
   ]
  },
  {
   "cell_type": "code",
   "execution_count": 607,
   "metadata": {},
   "outputs": [],
   "source": [
    "# create confusion matrix\n",
    "conf_matrix = pd.crosstab(y_test, gs_predictions, rownames=['True'], colnames=['Predicted'], margins=True)\n",
    "\n",
    "#code adapted from turdus-merula link: https://stats.stackexchange.com/questions/95209/how-can-i-interpret-sklearn-confusion-matrix"
   ]
  },
  {
   "cell_type": "markdown",
   "metadata": {},
   "source": [
    "\n",
    "   - Cooking: 0\n",
    "   - Keto: 1\n",
    "   - EatCheapAndHealthy: 2\n",
    "   - DIY: 3\n",
    "   - DataScience: 4"
   ]
  },
  {
   "cell_type": "code",
   "execution_count": 608,
   "metadata": {},
   "outputs": [],
   "source": [
    "#add column and row names\n",
    "conf_matrix = conf_matrix.rename(columns = {0:'Cooking', 1:'Keto', 2:'Healthy', 3:'DIY', 4:'Data'},\n",
    "                                index = {0:'Cooking', 1:'Keto', 2:'Healthy', 3:'DIY', 4:'Data'})"
   ]
  },
  {
   "cell_type": "code",
   "execution_count": 609,
   "metadata": {},
   "outputs": [
    {
     "data": {
      "text/html": [
       "<div>\n",
       "<style scoped>\n",
       "    .dataframe tbody tr th:only-of-type {\n",
       "        vertical-align: middle;\n",
       "    }\n",
       "\n",
       "    .dataframe tbody tr th {\n",
       "        vertical-align: top;\n",
       "    }\n",
       "\n",
       "    .dataframe thead th {\n",
       "        text-align: right;\n",
       "    }\n",
       "</style>\n",
       "<table border=\"1\" class=\"dataframe\">\n",
       "  <thead>\n",
       "    <tr style=\"text-align: right;\">\n",
       "      <th>Predicted</th>\n",
       "      <th>Cooking</th>\n",
       "      <th>Keto</th>\n",
       "      <th>Healthy</th>\n",
       "      <th>DIY</th>\n",
       "      <th>Data</th>\n",
       "      <th>All</th>\n",
       "    </tr>\n",
       "    <tr>\n",
       "      <th>True</th>\n",
       "      <th></th>\n",
       "      <th></th>\n",
       "      <th></th>\n",
       "      <th></th>\n",
       "      <th></th>\n",
       "      <th></th>\n",
       "    </tr>\n",
       "  </thead>\n",
       "  <tbody>\n",
       "    <tr>\n",
       "      <th>Cooking</th>\n",
       "      <td>992</td>\n",
       "      <td>29</td>\n",
       "      <td>127</td>\n",
       "      <td>43</td>\n",
       "      <td>12</td>\n",
       "      <td>1203</td>\n",
       "    </tr>\n",
       "    <tr>\n",
       "      <th>Keto</th>\n",
       "      <td>66</td>\n",
       "      <td>944</td>\n",
       "      <td>88</td>\n",
       "      <td>7</td>\n",
       "      <td>3</td>\n",
       "      <td>1108</td>\n",
       "    </tr>\n",
       "    <tr>\n",
       "      <th>Healthy</th>\n",
       "      <td>275</td>\n",
       "      <td>62</td>\n",
       "      <td>705</td>\n",
       "      <td>4</td>\n",
       "      <td>8</td>\n",
       "      <td>1054</td>\n",
       "    </tr>\n",
       "    <tr>\n",
       "      <th>DIY</th>\n",
       "      <td>52</td>\n",
       "      <td>33</td>\n",
       "      <td>17</td>\n",
       "      <td>540</td>\n",
       "      <td>20</td>\n",
       "      <td>662</td>\n",
       "    </tr>\n",
       "    <tr>\n",
       "      <th>Data</th>\n",
       "      <td>15</td>\n",
       "      <td>34</td>\n",
       "      <td>2</td>\n",
       "      <td>14</td>\n",
       "      <td>908</td>\n",
       "      <td>973</td>\n",
       "    </tr>\n",
       "    <tr>\n",
       "      <th>All</th>\n",
       "      <td>1400</td>\n",
       "      <td>1102</td>\n",
       "      <td>939</td>\n",
       "      <td>608</td>\n",
       "      <td>951</td>\n",
       "      <td>5000</td>\n",
       "    </tr>\n",
       "  </tbody>\n",
       "</table>\n",
       "</div>"
      ],
      "text/plain": [
       "Predicted  Cooking  Keto  Healthy  DIY  Data   All\n",
       "True                                              \n",
       "Cooking        992    29      127   43    12  1203\n",
       "Keto            66   944       88    7     3  1108\n",
       "Healthy        275    62      705    4     8  1054\n",
       "DIY             52    33       17  540    20   662\n",
       "Data            15    34        2   14   908   973\n",
       "All           1400  1102      939  608   951  5000"
      ]
     },
     "execution_count": 609,
     "metadata": {},
     "output_type": "execute_result"
    }
   ],
   "source": [
    "#view matrix\n",
    "conf_matrix"
   ]
  },
  {
   "cell_type": "code",
   "execution_count": 621,
   "metadata": {},
   "outputs": [
    {
     "data": {
      "text/plain": [
       "<matplotlib.axes._subplots.AxesSubplot at 0x1ac8622910>"
      ]
     },
     "execution_count": 621,
     "metadata": {},
     "output_type": "execute_result"
    },
    {
     "data": {
      "image/png": "[encoded data removed]",
      "text/plain": [
       "<Figure size 432x288 with 2 Axes>"
      ]
     },
     "metadata": {
      "needs_background": "light"
     },
     "output_type": "display_data"
    }
   ],
   "source": [
    "#plot the matrix in seaborn\n",
    "sns.heatmap(conf_matrix, vmin = 0, vmax = 1000, cmap = 'coolwarm', annot = True)"
   ]
  },
  {
   "cell_type": "code",
   "execution_count": 638,
   "metadata": {},
   "outputs": [],
   "source": [
    "#export all model scores\n",
    "score.to_csv('./results/all_model_scores.csv')"
   ]
  },
  {
   "cell_type": "code",
   "execution_count": null,
   "metadata": {},
   "outputs": [],
   "source": []
  }
 ],
 "metadata": {
  "kernelspec": {
   "display_name": "Python 3",
   "language": "python",
   "name": "python3"
  },
  "language_info": {
   "codemirror_mode": {
    "name": "ipython",
    "version": 3
   },
   "file_extension": ".py",
   "mimetype": "text/x-python",
   "name": "python",
   "nbconvert_exporter": "python",
   "pygments_lexer": "ipython3",
   "version": "3.7.4"
  }
 },
 "nbformat": 4,
 "nbformat_minor": 2
}
