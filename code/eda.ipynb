{
 "cells": [
  {
   "cell_type": "markdown",
   "metadata": {},
   "source": [
    "# EDA"
   ]
  },
  {
   "cell_type": "code",
   "execution_count": 84,
   "metadata": {},
   "outputs": [],
   "source": [
    "import pandas as pd\n",
    "import numpy as np\n",
    "import time \n",
    "from sklearn.model_selection import GridSearchCV, train_test_split\n",
    "from sklearn.pipeline import Pipeline\n",
    "from sklearn.feature_extraction.text import CountVectorizer, TfidfVectorizer\n",
    "from sklearn.linear_model import LogisticRegression\n",
    "from sklearn.preprocessing import LabelEncoder"
   ]
  },
  {
   "cell_type": "code",
   "execution_count": 85,
   "metadata": {},
   "outputs": [
    {
     "name": "stderr",
     "output_type": "stream",
     "text": [
      "/Users/scottrosengrants/opt/anaconda3/lib/python3.7/site-packages/IPython/core/interactiveshell.py:3058: DtypeWarning: Columns (5,25,74) have mixed types. Specify dtype option on import or set low_memory=False.\n",
      "  interactivity=interactivity, compiler=compiler, result=result)\n",
      "/Users/scottrosengrants/opt/anaconda3/lib/python3.7/site-packages/IPython/core/interactiveshell.py:3058: DtypeWarning: Columns (9,10,55,69) have mixed types. Specify dtype option on import or set low_memory=False.\n",
      "  interactivity=interactivity, compiler=compiler, result=result)\n",
      "/Users/scottrosengrants/opt/anaconda3/lib/python3.7/site-packages/IPython/core/interactiveshell.py:3058: DtypeWarning: Columns (3,9,10,25,44,74) have mixed types. Specify dtype option on import or set low_memory=False.\n",
      "  interactivity=interactivity, compiler=compiler, result=result)\n",
      "/Users/scottrosengrants/opt/anaconda3/lib/python3.7/site-packages/IPython/core/interactiveshell.py:3058: DtypeWarning: Columns (0,1,7,8,9,10,11,16,19,20,21,22,33,34,40,44,48,67,70,72,74,78,79,80,82,83,84,85,86) have mixed types. Specify dtype option on import or set low_memory=False.\n",
      "  interactivity=interactivity, compiler=compiler, result=result)\n",
      "/Users/scottrosengrants/opt/anaconda3/lib/python3.7/site-packages/IPython/core/interactiveshell.py:3058: DtypeWarning: Columns (9,10,42,72,77,80,82,83) have mixed types. Specify dtype option on import or set low_memory=False.\n",
      "  interactivity=interactivity, compiler=compiler, result=result)\n",
      "/Users/scottrosengrants/opt/anaconda3/lib/python3.7/site-packages/IPython/core/interactiveshell.py:3058: DtypeWarning: Columns (0,1,9,10,19,22,25,30,57,67,72,74,76,77,79,80,81,83,86,89,90,92,93,94) have mixed types. Specify dtype option on import or set low_memory=False.\n",
      "  interactivity=interactivity, compiler=compiler, result=result)\n"
     ]
    }
   ],
   "source": [
    "# read in data from folder in repository\n",
    "food = pd.read_csv('./Data/food.csv', encoding = 'ISO-8859-1')\n",
    "cooking = pd.read_csv('./Data/cooking.csv', encoding = 'ISO-8859-1')\n",
    "keto = pd.read_csv('./Data/keto.csv', encoding = 'ISO-8859-1')\n",
    "healthy_food = pd.read_csv('./Data/healthy_food.csv', encoding = 'ISO-8859-1')\n",
    "diy = pd.read_csv('./Data/diy.csv', encoding = 'ISO-8859-1')\n",
    "data = pd.read_csv('./Data/data.csv', encoding = 'ISO-8859-1')"
   ]
  },
  {
   "cell_type": "code",
   "execution_count": 86,
   "metadata": {
    "scrolled": true
   },
   "outputs": [
    {
     "data": {
      "text/plain": [
       "Index(['all_awardings', 'allow_live_comments', 'author',\n",
       "       'author_flair_css_class', 'author_flair_richtext', 'author_flair_text',\n",
       "       'author_flair_type', 'author_fullname', 'author_patreon_flair',\n",
       "       'author_premium', 'awarders', 'can_mod_post', 'contest_mode',\n",
       "       'created_utc', 'domain', 'full_link', 'gildings', 'id',\n",
       "       'is_crosspostable', 'is_meta', 'is_original_content',\n",
       "       'is_reddit_media_domain', 'is_robot_indexable', 'is_self', 'is_video',\n",
       "       'link_flair_background_color', 'link_flair_richtext',\n",
       "       'link_flair_text_color', 'link_flair_type', 'locked', 'media_only',\n",
       "       'no_follow', 'num_comments', 'num_crossposts', 'over_18',\n",
       "       'parent_whitelist_status', 'permalink', 'pinned', 'post_hint',\n",
       "       'preview', 'pwls', 'removed_by_category', 'retrieved_on', 'score',\n",
       "       'selftext', 'send_replies', 'spoiler', 'stickied', 'subreddit',\n",
       "       'subreddit_id', 'subreddit_subscribers', 'subreddit_type', 'thumbnail',\n",
       "       'thumbnail_height', 'thumbnail_width', 'title', 'total_awards_received',\n",
       "       'url', 'whitelist_status', 'wls', 'link_flair_css_class',\n",
       "       'link_flair_text', 'author_cakeday', 'crosspost_parent',\n",
       "       'crosspost_parent_list', 'media', 'media_embed', 'secure_media',\n",
       "       'secure_media_embed', 'author_flair_background_color',\n",
       "       'author_flair_text_color', 'link_flair_template_id', 'suggested_sort',\n",
       "       'steward_reports', 'distinguished'],\n",
       "      dtype='object')"
      ]
     },
     "execution_count": 86,
     "metadata": {},
     "output_type": "execute_result"
    }
   ],
   "source": [
    "#check columns\n",
    "food.columns"
   ]
  },
  {
   "cell_type": "markdown",
   "metadata": {},
   "source": [
    "**These features are likely the most helpful in identifying which subreddit to associate a post with. These will be considered the features for initial testing.**\n",
    "\n",
    "   - 'author': This column may contain several duplicate names which could help identify a post from a specific subreddit as members are likely to post repeatidly\n",
    "   - 'created_utc': This timestime will simply be kept for interpretability purposes\n",
    "   - 'id': This unique identify will be kept for reference only\n",
    "   - 'selftext': this is the main body of the post, this will be tokenized for NLP analysis\n",
    "   - 'subreddit': this is the subreddit identifier and will be used as the target (y) column when the dataframes are combined <br>\n",
    "   - 'title': this is the title of the post and will be tokenized for NLP analysis"
   ]
  },
  {
   "cell_type": "markdown",
   "metadata": {},
   "source": [
    "For this analysis only the 'author','id','selftext','subreddit','title' fields will be used. "
   ]
  },
  {
   "cell_type": "markdown",
   "metadata": {},
   "source": [
    "Check for null values in the 'author','id','selftext','subreddit','title' columns."
   ]
  },
  {
   "cell_type": "code",
   "execution_count": 87,
   "metadata": {},
   "outputs": [],
   "source": [
    "#create list of datasets\n",
    "data_sets = [food,cooking,keto,healthy_food,diy,data]\n",
    "data_sets_names = ['food','cooking','keto','healthy_food','diy','data']"
   ]
  },
  {
   "cell_type": "code",
   "execution_count": 88,
   "metadata": {
    "scrolled": false
   },
   "outputs": [
    {
     "name": "stdout",
     "output_type": "stream",
     "text": [
      " In food there are 19566 null submissions and 0 null titles 0.9783% of the data\n",
      "\n",
      " In cooking there are 1381 null submissions and 0 null titles 0.06905% of the data\n",
      "\n",
      " In keto there are 314 null submissions and 0 null titles 0.0157% of the data\n",
      "\n",
      " In healthy_food there are 5495 null submissions and 0 null titles 0.27475% of the data\n",
      "\n",
      " In diy there are 10448 null submissions and 0 null titles 0.5224% of the data\n",
      "\n",
      " In data there are 5560 null submissions and 0 null titles 0.278% of the data\n",
      "\n"
     ]
    }
   ],
   "source": [
    "# explore null values for 'title' and 'self text'\n",
    "count = 0\n",
    "for item in data_sets:\n",
    "    body_nulls = item['selftext'].isnull().sum()\n",
    "    title_nulls = item['title'].isnull().sum()\n",
    "    length = len(item)\n",
    "    name = data_sets_names[count]\n",
    "    count +=1\n",
    "    print(f\" In {name} there are {body_nulls} null submissions and {title_nulls} null titles {(body_nulls+ title_nulls)/length}% of the data\")\n",
    "    print()\n",
    "\n"
   ]
  },
  {
   "cell_type": "markdown",
   "metadata": {},
   "source": [
    "There appear to be no null title values. The food dataset has over 97% null 'selftext' (submission) nulls. It will be excluded from the analysis. "
   ]
  },
  {
   "cell_type": "code",
   "execution_count": 89,
   "metadata": {},
   "outputs": [],
   "source": [
    "#remove the food dataset\n",
    "data_sets.remove(food)\n",
    "data_sets_names.remove('food')"
   ]
  },
  {
   "cell_type": "code",
   "execution_count": 90,
   "metadata": {},
   "outputs": [
    {
     "data": {
      "text/plain": [
       "['cooking', 'keto', 'healthy_food', 'diy', 'data']"
      ]
     },
     "execution_count": 90,
     "metadata": {},
     "output_type": "execute_result"
    }
   ],
   "source": [
    "data_sets_names"
   ]
  },
  {
   "cell_type": "code",
   "execution_count": 91,
   "metadata": {},
   "outputs": [],
   "source": [
    "# create new data frames with only columns of interest\n",
    "\n",
    "cooking = cooking[['author','id','selftext','subreddit','title']]\n",
    "keto = keto[['author','id','selftext','subreddit','title']]\n",
    "healthy_food = healthy_food[['author','id','selftext','subreddit','title']]\n",
    "diy = diy[['author','id','selftext','subreddit','title']]\n",
    "data = data[['author','id','selftext','subreddit','title']]"
   ]
  },
  {
   "cell_type": "code",
   "execution_count": 92,
   "metadata": {
    "scrolled": false
   },
   "outputs": [
    {
     "data": {
      "text/html": [
       "<div>\n",
       "<style scoped>\n",
       "    .dataframe tbody tr th:only-of-type {\n",
       "        vertical-align: middle;\n",
       "    }\n",
       "\n",
       "    .dataframe tbody tr th {\n",
       "        vertical-align: top;\n",
       "    }\n",
       "\n",
       "    .dataframe thead th {\n",
       "        text-align: right;\n",
       "    }\n",
       "</style>\n",
       "<table border=\"1\" class=\"dataframe\">\n",
       "  <thead>\n",
       "    <tr style=\"text-align: right;\">\n",
       "      <th></th>\n",
       "      <th>author</th>\n",
       "      <th>id</th>\n",
       "      <th>selftext</th>\n",
       "      <th>subreddit</th>\n",
       "      <th>title</th>\n",
       "    </tr>\n",
       "  </thead>\n",
       "  <tbody>\n",
       "    <tr>\n",
       "      <th>0</th>\n",
       "      <td>YurkeyYacon</td>\n",
       "      <td>ewbxxh</td>\n",
       "      <td>If you make:\\n\\n1. A dish with some amount of ...</td>\n",
       "      <td>Cooking</td>\n",
       "      <td>Does infusing oil make the herb flavor stronge...</td>\n",
       "    </tr>\n",
       "    <tr>\n",
       "      <th>1</th>\n",
       "      <td>truedef</td>\n",
       "      <td>ewbvum</td>\n",
       "      <td>Will a dutch baby in an enameled cast iron ves...</td>\n",
       "      <td>Cooking</td>\n",
       "      <td>Dutch baby in enameled cast iron</td>\n",
       "    </tr>\n",
       "    <tr>\n",
       "      <th>2</th>\n",
       "      <td>Roupert2</td>\n",
       "      <td>ewbi6w</td>\n",
       "      <td>Mine is an 8 cup glass measuring cup. I had be...</td>\n",
       "      <td>Cooking</td>\n",
       "      <td>What was your favorite kitchen purchase of 2019?</td>\n",
       "    </tr>\n",
       "    <tr>\n",
       "      <th>3</th>\n",
       "      <td>jewelsbyjules</td>\n",
       "      <td>ewbetu</td>\n",
       "      <td>[removed]</td>\n",
       "      <td>Cooking</td>\n",
       "      <td>Dinner ideas for a foreign guest</td>\n",
       "    </tr>\n",
       "    <tr>\n",
       "      <th>4</th>\n",
       "      <td>CholoFlakes</td>\n",
       "      <td>ewbdkh</td>\n",
       "      <td>I will cook dinner for my family tomorrow and ...</td>\n",
       "      <td>Cooking</td>\n",
       "      <td>Best dishes to serve alongside some chili con ...</td>\n",
       "    </tr>\n",
       "  </tbody>\n",
       "</table>\n",
       "</div>"
      ],
      "text/plain": [
       "          author      id                                           selftext  \\\n",
       "0    YurkeyYacon  ewbxxh  If you make:\\n\\n1. A dish with some amount of ...   \n",
       "1        truedef  ewbvum  Will a dutch baby in an enameled cast iron ves...   \n",
       "2       Roupert2  ewbi6w  Mine is an 8 cup glass measuring cup. I had be...   \n",
       "3  jewelsbyjules  ewbetu                                          [removed]   \n",
       "4    CholoFlakes  ewbdkh  I will cook dinner for my family tomorrow and ...   \n",
       "\n",
       "  subreddit                                              title  \n",
       "0   Cooking  Does infusing oil make the herb flavor stronge...  \n",
       "1   Cooking                   Dutch baby in enameled cast iron  \n",
       "2   Cooking   What was your favorite kitchen purchase of 2019?  \n",
       "3   Cooking                   Dinner ideas for a foreign guest  \n",
       "4   Cooking  Best dishes to serve alongside some chili con ...  "
      ]
     },
     "execution_count": 92,
     "metadata": {},
     "output_type": "execute_result"
    }
   ],
   "source": [
    "# check the changes were applied\n",
    "cooking.head()"
   ]
  },
  {
   "cell_type": "code",
   "execution_count": 93,
   "metadata": {},
   "outputs": [
    {
     "data": {
      "text/plain": [
       "author          0\n",
       "id              0\n",
       "selftext     1381\n",
       "subreddit       0\n",
       "title           0\n",
       "dtype: int64"
      ]
     },
     "execution_count": 93,
     "metadata": {},
     "output_type": "execute_result"
    }
   ],
   "source": [
    "# check all nulls\n",
    "cooking.isnull().sum()"
   ]
  },
  {
   "cell_type": "code",
   "execution_count": 94,
   "metadata": {},
   "outputs": [
    {
     "data": {
      "text/plain": [
       "author         0\n",
       "id             0\n",
       "selftext     314\n",
       "subreddit      0\n",
       "title          0\n",
       "dtype: int64"
      ]
     },
     "execution_count": 94,
     "metadata": {},
     "output_type": "execute_result"
    }
   ],
   "source": [
    "keto.isnull().sum()"
   ]
  },
  {
   "cell_type": "code",
   "execution_count": 95,
   "metadata": {
    "scrolled": true
   },
   "outputs": [
    {
     "data": {
      "text/plain": [
       "author          0\n",
       "id              0\n",
       "selftext     5495\n",
       "subreddit       0\n",
       "title           0\n",
       "dtype: int64"
      ]
     },
     "execution_count": 95,
     "metadata": {},
     "output_type": "execute_result"
    }
   ],
   "source": [
    "healthy_food.isnull().sum()"
   ]
  },
  {
   "cell_type": "code",
   "execution_count": 96,
   "metadata": {
    "scrolled": true
   },
   "outputs": [
    {
     "data": {
      "text/plain": [
       "author           0\n",
       "id               0\n",
       "selftext     10448\n",
       "subreddit        0\n",
       "title            0\n",
       "dtype: int64"
      ]
     },
     "execution_count": 96,
     "metadata": {},
     "output_type": "execute_result"
    }
   ],
   "source": [
    "diy.isnull().sum()"
   ]
  },
  {
   "cell_type": "code",
   "execution_count": 97,
   "metadata": {
    "scrolled": true
   },
   "outputs": [
    {
     "data": {
      "text/plain": [
       "author          0\n",
       "id              0\n",
       "selftext     5560\n",
       "subreddit       0\n",
       "title           0\n",
       "dtype: int64"
      ]
     },
     "execution_count": 97,
     "metadata": {},
     "output_type": "execute_result"
    }
   ],
   "source": [
    "data.isnull().sum()"
   ]
  },
  {
   "cell_type": "code",
   "execution_count": 98,
   "metadata": {},
   "outputs": [],
   "source": [
    "#recreate list of datasets with the updates\n",
    "data_sets = [cooking,keto,healthy_food,diy,data]\n",
    "data_sets_names = ['cooking','keto','healthy_food','diy','data']"
   ]
  },
  {
   "cell_type": "markdown",
   "metadata": {},
   "source": [
    "There only appears to be null values in the 'selftext' columns. All rows with a null value in the 'selftext' column will be dropped. This will result in complete sets of data sets. "
   ]
  },
  {
   "cell_type": "code",
   "execution_count": 99,
   "metadata": {},
   "outputs": [],
   "source": [
    "# drop all rows containing a null values (only impacts the'selftext' column)\n",
    "for item in data_sets:\n",
    "    item.dropna(inplace = True)"
   ]
  },
  {
   "cell_type": "code",
   "execution_count": 100,
   "metadata": {},
   "outputs": [
    {
     "data": {
      "text/plain": [
       "author       0\n",
       "id           0\n",
       "selftext     0\n",
       "subreddit    0\n",
       "title        0\n",
       "dtype: int64"
      ]
     },
     "execution_count": 100,
     "metadata": {},
     "output_type": "execute_result"
    }
   ],
   "source": [
    "#check to see if nulls were dropped\n",
    "cooking.isnull().sum()"
   ]
  },
  {
   "cell_type": "code",
   "execution_count": 101,
   "metadata": {},
   "outputs": [
    {
     "data": {
      "text/plain": [
       "author       0\n",
       "id           0\n",
       "selftext     0\n",
       "subreddit    0\n",
       "title        0\n",
       "dtype: int64"
      ]
     },
     "execution_count": 101,
     "metadata": {},
     "output_type": "execute_result"
    }
   ],
   "source": [
    "data.isnull().sum()"
   ]
  },
  {
   "cell_type": "code",
   "execution_count": 102,
   "metadata": {},
   "outputs": [
    {
     "name": "stdout",
     "output_type": "stream",
     "text": [
      "18619\n",
      "19686\n",
      "14505\n",
      "9552\n",
      "14440\n"
     ]
    }
   ],
   "source": [
    "#check the new lengths of the datasets\n",
    "for item in data_sets:\n",
    "    print(len(item))"
   ]
  },
  {
   "cell_type": "code",
   "execution_count": 103,
   "metadata": {
    "scrolled": true
   },
   "outputs": [
    {
     "name": "stdout",
     "output_type": "stream",
     "text": [
      "[removed] 4434\n",
      "[deleted] 27\n",
      "[removed] 5262\n",
      "[deleted] 37\n",
      "[removed] 1356\n",
      "[deleted] 302\n",
      "[removed] 1256\n",
      "[deleted] 82\n",
      "[removed] 2392\n",
      "[deleted] 17\n"
     ]
    }
   ],
   "source": [
    "#check for 'removed' or 'deleted' selftext columns\n",
    "\n",
    "for item in data_sets:\n",
    "    print(f\"[removed] {len(item[item['selftext'] == '[removed]'])}\")\n",
    "    print(f\"[deleted] {len(item[item['selftext'] == '[deleted]'])}\")"
   ]
  },
  {
   "cell_type": "markdown",
   "metadata": {},
   "source": [
    "Note: There are multiple 'deleted' and 'removed' selftext' values. When the 'selftext' column is tokenized it may confuse 'removed' and 'deleted' as actual posts and likely associate them with one another. Rows containing 'removed' or 'deleted' posts will be dropped from all dataframes."
   ]
  },
  {
   "cell_type": "code",
   "execution_count": 104,
   "metadata": {},
   "outputs": [],
   "source": [
    "# drop all rows containing 'deleted' and 'removed' in the 'selftext' column\n",
    "\n",
    "for item in data_sets:\n",
    "    remove = list(item[item['selftext'] == '[removed]'].index)\n",
    "    item.drop(index = remove, inplace = True)\n",
    "    deleted = list(item[item['selftext'] == '[deleted]'].index)\n",
    "    item.drop(index = deleted, inplace = True)"
   ]
  },
  {
   "cell_type": "code",
   "execution_count": 106,
   "metadata": {},
   "outputs": [
    {
     "name": "stdout",
     "output_type": "stream",
     "text": [
      "[removed] 0\n",
      "[deleted] 0\n",
      "[removed] 0\n",
      "[deleted] 0\n",
      "[removed] 0\n",
      "[deleted] 0\n",
      "[removed] 0\n",
      "[deleted] 0\n",
      "[removed] 0\n",
      "[deleted] 0\n"
     ]
    }
   ],
   "source": [
    "#check that the rows were dropped\n",
    "\n",
    "for item in data_sets:\n",
    "    print(f\"[removed] {len(item[item['selftext'] == '[removed]'])}\")\n",
    "    print(f\"[deleted] {len(item[item['selftext'] == '[deleted]'])}\")"
   ]
  },
  {
   "cell_type": "markdown",
   "metadata": {},
   "source": [
    "### The data sets have all been successfully cleaned. They will now be combined to begin NLP preprocessing.\n",
    "The DIY subset of data will be removed prior to modeling, it is being added here to simplify the preprossing steps."
   ]
  },
  {
   "cell_type": "code",
   "execution_count": 107,
   "metadata": {},
   "outputs": [],
   "source": [
    "# add all three dataset into one dataframe \n",
    "main = pd.concat(data_sets)"
   ]
  },
  {
   "cell_type": "code",
   "execution_count": 108,
   "metadata": {},
   "outputs": [
    {
     "data": {
      "text/html": [
       "<div>\n",
       "<style scoped>\n",
       "    .dataframe tbody tr th:only-of-type {\n",
       "        vertical-align: middle;\n",
       "    }\n",
       "\n",
       "    .dataframe tbody tr th {\n",
       "        vertical-align: top;\n",
       "    }\n",
       "\n",
       "    .dataframe thead th {\n",
       "        text-align: right;\n",
       "    }\n",
       "</style>\n",
       "<table border=\"1\" class=\"dataframe\">\n",
       "  <thead>\n",
       "    <tr style=\"text-align: right;\">\n",
       "      <th></th>\n",
       "      <th>author</th>\n",
       "      <th>id</th>\n",
       "      <th>selftext</th>\n",
       "      <th>subreddit</th>\n",
       "      <th>title</th>\n",
       "    </tr>\n",
       "  </thead>\n",
       "  <tbody>\n",
       "    <tr>\n",
       "      <th>0</th>\n",
       "      <td>YurkeyYacon</td>\n",
       "      <td>ewbxxh</td>\n",
       "      <td>If you make:\\n\\n1. A dish with some amount of ...</td>\n",
       "      <td>Cooking</td>\n",
       "      <td>Does infusing oil make the herb flavor stronge...</td>\n",
       "    </tr>\n",
       "    <tr>\n",
       "      <th>1</th>\n",
       "      <td>truedef</td>\n",
       "      <td>ewbvum</td>\n",
       "      <td>Will a dutch baby in an enameled cast iron ves...</td>\n",
       "      <td>Cooking</td>\n",
       "      <td>Dutch baby in enameled cast iron</td>\n",
       "    </tr>\n",
       "    <tr>\n",
       "      <th>2</th>\n",
       "      <td>Roupert2</td>\n",
       "      <td>ewbi6w</td>\n",
       "      <td>Mine is an 8 cup glass measuring cup. I had be...</td>\n",
       "      <td>Cooking</td>\n",
       "      <td>What was your favorite kitchen purchase of 2019?</td>\n",
       "    </tr>\n",
       "    <tr>\n",
       "      <th>4</th>\n",
       "      <td>CholoFlakes</td>\n",
       "      <td>ewbdkh</td>\n",
       "      <td>I will cook dinner for my family tomorrow and ...</td>\n",
       "      <td>Cooking</td>\n",
       "      <td>Best dishes to serve alongside some chili con ...</td>\n",
       "    </tr>\n",
       "    <tr>\n",
       "      <th>5</th>\n",
       "      <td>Tanstorm</td>\n",
       "      <td>ewba8g</td>\n",
       "      <td>been having trouble with things sticking, kind...</td>\n",
       "      <td>Cooking</td>\n",
       "      <td>Problem with stainless steel sticking Eggs or ...</td>\n",
       "    </tr>\n",
       "  </tbody>\n",
       "</table>\n",
       "</div>"
      ],
      "text/plain": [
       "        author      id                                           selftext  \\\n",
       "0  YurkeyYacon  ewbxxh  If you make:\\n\\n1. A dish with some amount of ...   \n",
       "1      truedef  ewbvum  Will a dutch baby in an enameled cast iron ves...   \n",
       "2     Roupert2  ewbi6w  Mine is an 8 cup glass measuring cup. I had be...   \n",
       "4  CholoFlakes  ewbdkh  I will cook dinner for my family tomorrow and ...   \n",
       "5     Tanstorm  ewba8g  been having trouble with things sticking, kind...   \n",
       "\n",
       "  subreddit                                              title  \n",
       "0   Cooking  Does infusing oil make the herb flavor stronge...  \n",
       "1   Cooking                   Dutch baby in enameled cast iron  \n",
       "2   Cooking   What was your favorite kitchen purchase of 2019?  \n",
       "4   Cooking  Best dishes to serve alongside some chili con ...  \n",
       "5   Cooking  Problem with stainless steel sticking Eggs or ...  "
      ]
     },
     "execution_count": 108,
     "metadata": {},
     "output_type": "execute_result"
    }
   ],
   "source": [
    "#check to ensure merge worked\n",
    "main.head()"
   ]
  },
  {
   "cell_type": "code",
   "execution_count": 109,
   "metadata": {},
   "outputs": [
    {
     "data": {
      "text/plain": [
       "(61637, 5)"
      ]
     },
     "execution_count": 109,
     "metadata": {},
     "output_type": "execute_result"
    }
   ],
   "source": [
    "# check the new DF size\n",
    "main.shape"
   ]
  },
  {
   "cell_type": "code",
   "execution_count": 110,
   "metadata": {
    "scrolled": true
   },
   "outputs": [
    {
     "data": {
      "text/plain": [
       "author       0\n",
       "id           0\n",
       "selftext     0\n",
       "subreddit    0\n",
       "title        0\n",
       "dtype: int64"
      ]
     },
     "execution_count": 110,
     "metadata": {},
     "output_type": "execute_result"
    }
   ],
   "source": [
    "#check for any remaining nulls\n",
    "main.isnull().sum()"
   ]
  },
  {
   "cell_type": "code",
   "execution_count": 111,
   "metadata": {},
   "outputs": [
    {
     "data": {
      "text/plain": [
       "['cooking', 'keto', 'healthy_food', 'diy', 'data']"
      ]
     },
     "execution_count": 111,
     "metadata": {},
     "output_type": "execute_result"
    }
   ],
   "source": [
    "data_sets_names"
   ]
  },
  {
   "cell_type": "markdown",
   "metadata": {},
   "source": [
    "Create value indicators for each subreddit. \n",
    "   - Cooking: 0\n",
    "   - Keto: 1\n",
    "   - EatCheapAndHealthy: 2\n",
    "   - DIY: 3\n",
    "   - DataScience: 4"
   ]
  },
  {
   "cell_type": "code",
   "execution_count": 113,
   "metadata": {},
   "outputs": [
    {
     "data": {
      "text/plain": [
       "keto                  14387\n",
       "Cooking               14158\n",
       "EatCheapAndHealthy    12847\n",
       "datascience           12031\n",
       "DIY                    8214\n",
       "Name: subreddit, dtype: int64"
      ]
     },
     "execution_count": 113,
     "metadata": {},
     "output_type": "execute_result"
    }
   ],
   "source": [
    "main['subreddit'].value_counts()"
   ]
  },
  {
   "cell_type": "code",
   "execution_count": 115,
   "metadata": {},
   "outputs": [],
   "source": [
    "# encode the subreddits using data dictionary\n",
    "\n",
    "subreddit = {'subreddit': {\n",
    "                            'Cooking' :0,\n",
    "                            'keto' : 1,\n",
    "                            'EatCheapAndHealthy' : 2, \n",
    "                            'DIY' : 3,\n",
    "                            'datascience' : 4\n",
    "                        }\n",
    "                        }\n",
    "main.replace(subreddit, inplace = True)"
   ]
  },
  {
   "cell_type": "code",
   "execution_count": 116,
   "metadata": {},
   "outputs": [
    {
     "data": {
      "text/plain": [
       "1    14387\n",
       "0    14158\n",
       "2    12847\n",
       "4    12031\n",
       "3     8214\n",
       "Name: subreddit, dtype: int64"
      ]
     },
     "execution_count": 116,
     "metadata": {},
     "output_type": "execute_result"
    }
   ],
   "source": [
    "main['subreddit'].value_counts()"
   ]
  },
  {
   "cell_type": "code",
   "execution_count": 117,
   "metadata": {},
   "outputs": [
    {
     "data": {
      "text/plain": [
       "1    0.233415\n",
       "0    0.229700\n",
       "2    0.208430\n",
       "4    0.195191\n",
       "3    0.133264\n",
       "Name: subreddit, dtype: float64"
      ]
     },
     "execution_count": 117,
     "metadata": {},
     "output_type": "execute_result"
    }
   ],
   "source": [
    "main['subreddit'].value_counts(normalize=True)"
   ]
  },
  {
   "cell_type": "code",
   "execution_count": 118,
   "metadata": {},
   "outputs": [
    {
     "data": {
      "text/html": [
       "<div>\n",
       "<style scoped>\n",
       "    .dataframe tbody tr th:only-of-type {\n",
       "        vertical-align: middle;\n",
       "    }\n",
       "\n",
       "    .dataframe tbody tr th {\n",
       "        vertical-align: top;\n",
       "    }\n",
       "\n",
       "    .dataframe thead th {\n",
       "        text-align: right;\n",
       "    }\n",
       "</style>\n",
       "<table border=\"1\" class=\"dataframe\">\n",
       "  <thead>\n",
       "    <tr style=\"text-align: right;\">\n",
       "      <th></th>\n",
       "      <th>author</th>\n",
       "      <th>id</th>\n",
       "      <th>selftext</th>\n",
       "      <th>subreddit</th>\n",
       "      <th>title</th>\n",
       "    </tr>\n",
       "  </thead>\n",
       "  <tbody>\n",
       "    <tr>\n",
       "      <th>0</th>\n",
       "      <td>YurkeyYacon</td>\n",
       "      <td>ewbxxh</td>\n",
       "      <td>If you make:\\n\\n1. A dish with some amount of ...</td>\n",
       "      <td>0</td>\n",
       "      <td>Does infusing oil make the herb flavor stronge...</td>\n",
       "    </tr>\n",
       "    <tr>\n",
       "      <th>1</th>\n",
       "      <td>truedef</td>\n",
       "      <td>ewbvum</td>\n",
       "      <td>Will a dutch baby in an enameled cast iron ves...</td>\n",
       "      <td>0</td>\n",
       "      <td>Dutch baby in enameled cast iron</td>\n",
       "    </tr>\n",
       "    <tr>\n",
       "      <th>2</th>\n",
       "      <td>Roupert2</td>\n",
       "      <td>ewbi6w</td>\n",
       "      <td>Mine is an 8 cup glass measuring cup. I had be...</td>\n",
       "      <td>0</td>\n",
       "      <td>What was your favorite kitchen purchase of 2019?</td>\n",
       "    </tr>\n",
       "    <tr>\n",
       "      <th>4</th>\n",
       "      <td>CholoFlakes</td>\n",
       "      <td>ewbdkh</td>\n",
       "      <td>I will cook dinner for my family tomorrow and ...</td>\n",
       "      <td>0</td>\n",
       "      <td>Best dishes to serve alongside some chili con ...</td>\n",
       "    </tr>\n",
       "    <tr>\n",
       "      <th>5</th>\n",
       "      <td>Tanstorm</td>\n",
       "      <td>ewba8g</td>\n",
       "      <td>been having trouble with things sticking, kind...</td>\n",
       "      <td>0</td>\n",
       "      <td>Problem with stainless steel sticking Eggs or ...</td>\n",
       "    </tr>\n",
       "  </tbody>\n",
       "</table>\n",
       "</div>"
      ],
      "text/plain": [
       "        author      id                                           selftext  \\\n",
       "0  YurkeyYacon  ewbxxh  If you make:\\n\\n1. A dish with some amount of ...   \n",
       "1      truedef  ewbvum  Will a dutch baby in an enameled cast iron ves...   \n",
       "2     Roupert2  ewbi6w  Mine is an 8 cup glass measuring cup. I had be...   \n",
       "4  CholoFlakes  ewbdkh  I will cook dinner for my family tomorrow and ...   \n",
       "5     Tanstorm  ewba8g  been having trouble with things sticking, kind...   \n",
       "\n",
       "   subreddit                                              title  \n",
       "0          0  Does infusing oil make the herb flavor stronge...  \n",
       "1          0                   Dutch baby in enameled cast iron  \n",
       "2          0   What was your favorite kitchen purchase of 2019?  \n",
       "4          0  Best dishes to serve alongside some chili con ...  \n",
       "5          0  Problem with stainless steel sticking Eggs or ...  "
      ]
     },
     "execution_count": 118,
     "metadata": {},
     "output_type": "execute_result"
    }
   ],
   "source": [
    "main.head()"
   ]
  },
  {
   "cell_type": "code",
   "execution_count": 119,
   "metadata": {},
   "outputs": [],
   "source": [
    "# export the cleaned data to the datafolder \n",
    "\n",
    "main.to_csv('./Data/5_reddit_clean_data.csv', index = False)"
   ]
  },
  {
   "cell_type": "markdown",
   "metadata": {},
   "source": [
    "## Continue to next notebook 'Modeling'"
   ]
  }
 ],
 "metadata": {
  "kernelspec": {
   "display_name": "Python 3",
   "language": "python",
   "name": "python3"
  },
  "language_info": {
   "codemirror_mode": {
    "name": "ipython",
    "version": 3
   },
   "file_extension": ".py",
   "mimetype": "text/x-python",
   "name": "python",
   "nbconvert_exporter": "python",
   "pygments_lexer": "ipython3",
   "version": "3.7.4"
  }
 },
 "nbformat": 4,
 "nbformat_minor": 2
}
