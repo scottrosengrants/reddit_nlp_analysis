{
 "cells": [
  {
   "cell_type": "markdown",
   "metadata": {},
   "source": [
    "# Data Collection from Reddit"
   ]
  },
  {
   "cell_type": "code",
   "execution_count": 1,
   "metadata": {},
   "outputs": [],
   "source": [
    "import requests\n",
    "import pandas as pd\n",
    "import time"
   ]
  },
  {
   "cell_type": "code",
   "execution_count": 2,
   "metadata": {},
   "outputs": [],
   "source": [
    "#set main url from the api pushift.io\n",
    "url = 'https://api.pushshift.io/reddit/search/submission'"
   ]
  },
  {
   "cell_type": "markdown",
   "metadata": {},
   "source": [
    "#### Define a function to call the api repeatively for data collection"
   ]
  },
  {
   "cell_type": "code",
   "execution_count": 3,
   "metadata": {},
   "outputs": [],
   "source": [
    "#function to get multiple sets of data from Reddit\n",
    "def get_data(subreddit, quantity):\n",
    "    # establish the number of requests needed based on the user input, round float to single integer\n",
    "    n_calls = int(quantity/500)\n",
    "    # create master list of dictionaries\n",
    "    whole_list =[]\n",
    "    #set the initial parameter, collects the most recent 500 posts\n",
    "    params = {\n",
    "        'subreddit': str(subreddit),\n",
    "        'size' : 500\n",
    "    }\n",
    "    # initial call to reddit\n",
    "    response = requests.get(url,params)\n",
    "    # save dictionary of json data\n",
    "    results = response.json()\n",
    "    \n",
    "    # add the list of dictionaries under 'data' to the master list\n",
    "    for item in range(len(results['data'])):\n",
    "        whole_list.append(results['data'][item])\n",
    "\n",
    "# loop through the range set by the # of requested data rows given by the user\n",
    "\n",
    "    for i in range(1,n_calls):\n",
    "        #display the functions progress as it slowly calls to the api for the requested data\n",
    "        print(f'pulling subreddit submissions {i*500} of {n_calls*500}')\n",
    "        #wait 5 seconds to reduce the strain on api\n",
    "        time.sleep(5)\n",
    "        \n",
    "        #find the oldest post date for next pull and subtract 1 to increase the age\n",
    "        date = results['data'][499]['created_utc'] - 1\n",
    "    \n",
    "        #add the date to the new param list\n",
    "        params_2 = {\n",
    "            'subreddit': str(subreddit),\n",
    "            'size' : 500,\n",
    "            'before' : date \n",
    "        } \n",
    "    \n",
    "        #make ith call to reddit\n",
    "        response = requests.get(url,params_2)\n",
    "        results = response.json()\n",
    "\n",
    "        # add the list of dictionaries under 'data' to the master list\n",
    "        for item in range(len(results['data'])):\n",
    "            whole_list.append(results['data'][item])\n",
    "    #print finished\n",
    "    print(f'Done, successfully pulled {quantity} submissions from r/{subreddit}')\n",
    "    \n",
    "    #return the master list\n",
    "    return whole_list\n",
    "    \n",
    "    \n",
    "    "
   ]
  },
  {
   "cell_type": "markdown",
   "metadata": {},
   "source": [
    "### Sub Reddit 1 r/EatCheapAndHealthy\n",
    "\n",
    "Collect 20,000 submissions"
   ]
  },
  {
   "cell_type": "code",
   "execution_count": 16,
   "metadata": {
    "scrolled": true
   },
   "outputs": [
    {
     "name": "stdout",
     "output_type": "stream",
     "text": [
      "pulling subreddit submissions 500 of 20000\n",
      "pulling subreddit submissions 1000 of 20000\n",
      "pulling subreddit submissions 1500 of 20000\n",
      "pulling subreddit submissions 2000 of 20000\n",
      "pulling subreddit submissions 2500 of 20000\n",
      "pulling subreddit submissions 3000 of 20000\n",
      "pulling subreddit submissions 3500 of 20000\n",
      "pulling subreddit submissions 4000 of 20000\n",
      "pulling subreddit submissions 4500 of 20000\n",
      "pulling subreddit submissions 5000 of 20000\n",
      "pulling subreddit submissions 5500 of 20000\n",
      "pulling subreddit submissions 6000 of 20000\n",
      "pulling subreddit submissions 6500 of 20000\n",
      "pulling subreddit submissions 7000 of 20000\n",
      "pulling subreddit submissions 7500 of 20000\n",
      "pulling subreddit submissions 8000 of 20000\n",
      "pulling subreddit submissions 8500 of 20000\n",
      "pulling subreddit submissions 9000 of 20000\n",
      "pulling subreddit submissions 9500 of 20000\n",
      "pulling subreddit submissions 10000 of 20000\n",
      "pulling subreddit submissions 10500 of 20000\n",
      "pulling subreddit submissions 11000 of 20000\n",
      "pulling subreddit submissions 11500 of 20000\n",
      "pulling subreddit submissions 12000 of 20000\n",
      "pulling subreddit submissions 12500 of 20000\n",
      "pulling subreddit submissions 13000 of 20000\n",
      "pulling subreddit submissions 13500 of 20000\n",
      "pulling subreddit submissions 14000 of 20000\n",
      "pulling subreddit submissions 14500 of 20000\n",
      "pulling subreddit submissions 15000 of 20000\n",
      "pulling subreddit submissions 15500 of 20000\n",
      "pulling subreddit submissions 16000 of 20000\n",
      "pulling subreddit submissions 16500 of 20000\n",
      "pulling subreddit submissions 17000 of 20000\n",
      "pulling subreddit submissions 17500 of 20000\n",
      "pulling subreddit submissions 18000 of 20000\n",
      "pulling subreddit submissions 18500 of 20000\n",
      "pulling subreddit submissions 19000 of 20000\n",
      "pulling subreddit submissions 19500 of 20000\n",
      "Done, successfully pulled 20000 submissions from r/EatCheapAndHealthy\n"
     ]
    }
   ],
   "source": [
    "healthy_list = get_data('EatCheapAndHealthy',20_000)"
   ]
  },
  {
   "cell_type": "code",
   "execution_count": 17,
   "metadata": {
    "scrolled": false
   },
   "outputs": [],
   "source": [
    "# create healthy dataframe\n",
    "healthy_df = pd.DataFrame(healthy_list)"
   ]
  },
  {
   "cell_type": "code",
   "execution_count": 18,
   "metadata": {},
   "outputs": [
    {
     "data": {
      "text/plain": [
       "20000"
      ]
     },
     "execution_count": 18,
     "metadata": {},
     "output_type": "execute_result"
    }
   ],
   "source": [
    "len(healthy_list)"
   ]
  },
  {
   "cell_type": "code",
   "execution_count": 19,
   "metadata": {},
   "outputs": [
    {
     "name": "stdout",
     "output_type": "stream",
     "text": [
      "Most recent time stamp:  1580419449\n",
      "Oldest time stamp:  1505483043\n",
      "Duplicate rows found:  0\n",
      "Total submissions contained in dataframe:  20000\n"
     ]
    }
   ],
   "source": [
    "# check the time range on submissions, length of Df, and for any duplicates\n",
    "print('Most recent time stamp: ',healthy_df['created_utc'].max())\n",
    "print('Oldest time stamp: ',healthy_df['created_utc'].min())\n",
    "print('Duplicate rows found: ', healthy_df.duplicated(subset='id').sum())\n",
    "print('Total submissions contained in dataframe: ', len(healthy_df))"
   ]
  },
  {
   "cell_type": "code",
   "execution_count": 20,
   "metadata": {},
   "outputs": [],
   "source": [
    "#save food data to data folder\n",
    "healthy_df.to_csv('./Data/healthy_food.csv', index = False)"
   ]
  },
  {
   "cell_type": "markdown",
   "metadata": {},
   "source": [
    "## Collect Subreddit 2 r/DIY "
   ]
  },
  {
   "cell_type": "code",
   "execution_count": 268,
   "metadata": {
    "scrolled": true
   },
   "outputs": [
    {
     "name": "stdout",
     "output_type": "stream",
     "text": [
      "pulling subreddit submissions 500 of 20000\n",
      "pulling subreddit submissions 1000 of 20000\n",
      "pulling subreddit submissions 1500 of 20000\n",
      "pulling subreddit submissions 2000 of 20000\n",
      "pulling subreddit submissions 2500 of 20000\n",
      "pulling subreddit submissions 3000 of 20000\n",
      "pulling subreddit submissions 3500 of 20000\n",
      "pulling subreddit submissions 4000 of 20000\n",
      "pulling subreddit submissions 4500 of 20000\n",
      "pulling subreddit submissions 5000 of 20000\n",
      "pulling subreddit submissions 5500 of 20000\n",
      "pulling subreddit submissions 6000 of 20000\n",
      "pulling subreddit submissions 6500 of 20000\n",
      "pulling subreddit submissions 7000 of 20000\n",
      "pulling subreddit submissions 7500 of 20000\n",
      "pulling subreddit submissions 8000 of 20000\n",
      "pulling subreddit submissions 8500 of 20000\n",
      "pulling subreddit submissions 9000 of 20000\n",
      "pulling subreddit submissions 9500 of 20000\n",
      "pulling subreddit submissions 10000 of 20000\n",
      "pulling subreddit submissions 10500 of 20000\n",
      "pulling subreddit submissions 11000 of 20000\n",
      "pulling subreddit submissions 11500 of 20000\n",
      "pulling subreddit submissions 12000 of 20000\n",
      "pulling subreddit submissions 12500 of 20000\n",
      "pulling subreddit submissions 13000 of 20000\n",
      "pulling subreddit submissions 13500 of 20000\n",
      "pulling subreddit submissions 14000 of 20000\n",
      "pulling subreddit submissions 14500 of 20000\n",
      "pulling subreddit submissions 15000 of 20000\n",
      "pulling subreddit submissions 15500 of 20000\n",
      "pulling subreddit submissions 16000 of 20000\n",
      "pulling subreddit submissions 16500 of 20000\n",
      "pulling subreddit submissions 17000 of 20000\n",
      "pulling subreddit submissions 17500 of 20000\n",
      "pulling subreddit submissions 18000 of 20000\n",
      "pulling subreddit submissions 18500 of 20000\n",
      "pulling subreddit submissions 19000 of 20000\n",
      "pulling subreddit submissions 19500 of 20000\n",
      "Done, successfully pulled 20000 submissions from r/DIY\n"
     ]
    }
   ],
   "source": [
    "diy_list = get_data('DIY',20_000)"
   ]
  },
  {
   "cell_type": "code",
   "execution_count": 288,
   "metadata": {},
   "outputs": [],
   "source": [
    "# create DIY dataframe\n",
    "diy_df = pd.DataFrame(diy_list)"
   ]
  },
  {
   "cell_type": "code",
   "execution_count": 290,
   "metadata": {
    "scrolled": true
   },
   "outputs": [
    {
     "name": "stdout",
     "output_type": "stream",
     "text": [
      "Most recent time stamp:  1580088535\n",
      "Oldest time stamp:  1565343456\n",
      "Duplicate rows found:  0\n",
      "Total submissions contained in dataframe:  20000\n"
     ]
    }
   ],
   "source": [
    "# check the time range on submissions, length of Df, and for any duplicates\n",
    "print('Most recent time stamp: ',diy_df['created_utc'].max())\n",
    "print('Oldest time stamp: ',diy_df['created_utc'].min())\n",
    "print('Duplicate rows found: ', diy_df.duplicated(subset='id').sum())\n",
    "print('Total submissions contained in dataframe: ', len(diy_df))"
   ]
  },
  {
   "cell_type": "code",
   "execution_count": 291,
   "metadata": {},
   "outputs": [],
   "source": [
    "#save diy data to data folder\n",
    "diy_df.to_csv('./Data/diy.csv', index = False)"
   ]
  },
  {
   "cell_type": "markdown",
   "metadata": {},
   "source": [
    "## Collect Subreddit 3 r/datascience (control set only)"
   ]
  },
  {
   "cell_type": "code",
   "execution_count": 295,
   "metadata": {
    "scrolled": true
   },
   "outputs": [
    {
     "name": "stdout",
     "output_type": "stream",
     "text": [
      "pulling subreddit submissions 500 of 20000\n",
      "pulling subreddit submissions 1000 of 20000\n",
      "pulling subreddit submissions 1500 of 20000\n",
      "pulling subreddit submissions 2000 of 20000\n",
      "pulling subreddit submissions 2500 of 20000\n",
      "pulling subreddit submissions 3000 of 20000\n",
      "pulling subreddit submissions 3500 of 20000\n",
      "pulling subreddit submissions 4000 of 20000\n",
      "pulling subreddit submissions 4500 of 20000\n",
      "pulling subreddit submissions 5000 of 20000\n",
      "pulling subreddit submissions 5500 of 20000\n",
      "pulling subreddit submissions 6000 of 20000\n",
      "pulling subreddit submissions 6500 of 20000\n",
      "pulling subreddit submissions 7000 of 20000\n",
      "pulling subreddit submissions 7500 of 20000\n",
      "pulling subreddit submissions 8000 of 20000\n",
      "pulling subreddit submissions 8500 of 20000\n",
      "pulling subreddit submissions 9000 of 20000\n",
      "pulling subreddit submissions 9500 of 20000\n",
      "pulling subreddit submissions 10000 of 20000\n",
      "pulling subreddit submissions 10500 of 20000\n",
      "pulling subreddit submissions 11000 of 20000\n",
      "pulling subreddit submissions 11500 of 20000\n",
      "pulling subreddit submissions 12000 of 20000\n",
      "pulling subreddit submissions 12500 of 20000\n",
      "pulling subreddit submissions 13000 of 20000\n",
      "pulling subreddit submissions 13500 of 20000\n",
      "pulling subreddit submissions 14000 of 20000\n",
      "pulling subreddit submissions 14500 of 20000\n",
      "pulling subreddit submissions 15000 of 20000\n",
      "pulling subreddit submissions 15500 of 20000\n",
      "pulling subreddit submissions 16000 of 20000\n",
      "pulling subreddit submissions 16500 of 20000\n",
      "pulling subreddit submissions 17000 of 20000\n",
      "pulling subreddit submissions 17500 of 20000\n",
      "pulling subreddit submissions 18000 of 20000\n",
      "pulling subreddit submissions 18500 of 20000\n",
      "pulling subreddit submissions 19000 of 20000\n",
      "pulling subreddit submissions 19500 of 20000\n",
      "Done, successfully pulled 20000 submissions from r/datascience\n"
     ]
    }
   ],
   "source": [
    "data_list = get_data('datascience',20_000)"
   ]
  },
  {
   "cell_type": "code",
   "execution_count": 300,
   "metadata": {},
   "outputs": [],
   "source": [
    "# create 'datascience' dataframe\n",
    "data_df = pd.DataFrame(data_list)"
   ]
  },
  {
   "cell_type": "code",
   "execution_count": 301,
   "metadata": {},
   "outputs": [
    {
     "name": "stdout",
     "output_type": "stream",
     "text": [
      "Most recent time stamp:  1580161720\n",
      "Oldest time stamp:  1526304766\n",
      "Duplicate rows found:  0\n",
      "Total submissions contained in dataframe:  20000\n"
     ]
    }
   ],
   "source": [
    "# check the time range on submissions, length of Df, and for any duplicates\n",
    "print('Most recent time stamp: ',data_df['created_utc'].max())\n",
    "print('Oldest time stamp: ',data_df['created_utc'].min())\n",
    "print('Duplicate rows found: ', data_df.duplicated(subset='id').sum())\n",
    "print('Total submissions contained in dataframe: ', len(data_df))"
   ]
  },
  {
   "cell_type": "code",
   "execution_count": 303,
   "metadata": {},
   "outputs": [],
   "source": [
    "## Collect Subreddit 3 r/datascience (control set only)#save diy data to data folder\n",
    "data_df.to_csv('./Data/data.csv', index = False)"
   ]
  },
  {
   "cell_type": "markdown",
   "metadata": {},
   "source": [
    "## Collect Subreddit 4 r/cooking"
   ]
  },
  {
   "cell_type": "code",
   "execution_count": 5,
   "metadata": {
    "scrolled": true
   },
   "outputs": [
    {
     "name": "stdout",
     "output_type": "stream",
     "text": [
      "pulling subreddit submissions 500 of 20000\n",
      "pulling subreddit submissions 1000 of 20000\n",
      "pulling subreddit submissions 1500 of 20000\n",
      "pulling subreddit submissions 2000 of 20000\n",
      "pulling subreddit submissions 2500 of 20000\n",
      "pulling subreddit submissions 3000 of 20000\n",
      "pulling subreddit submissions 3500 of 20000\n",
      "pulling subreddit submissions 4000 of 20000\n",
      "pulling subreddit submissions 4500 of 20000\n",
      "pulling subreddit submissions 5000 of 20000\n",
      "pulling subreddit submissions 5500 of 20000\n",
      "pulling subreddit submissions 6000 of 20000\n",
      "pulling subreddit submissions 6500 of 20000\n",
      "pulling subreddit submissions 7000 of 20000\n",
      "pulling subreddit submissions 7500 of 20000\n",
      "pulling subreddit submissions 8000 of 20000\n",
      "pulling subreddit submissions 8500 of 20000\n",
      "pulling subreddit submissions 9000 of 20000\n",
      "pulling subreddit submissions 9500 of 20000\n",
      "pulling subreddit submissions 10000 of 20000\n",
      "pulling subreddit submissions 10500 of 20000\n",
      "pulling subreddit submissions 11000 of 20000\n",
      "pulling subreddit submissions 11500 of 20000\n",
      "pulling subreddit submissions 12000 of 20000\n",
      "pulling subreddit submissions 12500 of 20000\n",
      "pulling subreddit submissions 13000 of 20000\n",
      "pulling subreddit submissions 13500 of 20000\n",
      "pulling subreddit submissions 14000 of 20000\n",
      "pulling subreddit submissions 14500 of 20000\n",
      "pulling subreddit submissions 15000 of 20000\n",
      "pulling subreddit submissions 15500 of 20000\n",
      "pulling subreddit submissions 16000 of 20000\n",
      "pulling subreddit submissions 16500 of 20000\n",
      "pulling subreddit submissions 17000 of 20000\n",
      "pulling subreddit submissions 17500 of 20000\n",
      "pulling subreddit submissions 18000 of 20000\n",
      "pulling subreddit submissions 18500 of 20000\n",
      "pulling subreddit submissions 19000 of 20000\n",
      "pulling subreddit submissions 19500 of 20000\n",
      "Done, successfully pulled 20000 submissions from r/Cooking\n"
     ]
    }
   ],
   "source": [
    "cooking_list = get_data('Cooking',20_000)"
   ]
  },
  {
   "cell_type": "code",
   "execution_count": 6,
   "metadata": {},
   "outputs": [],
   "source": [
    "# create 'cooking' dataframe\n",
    "cooking_df = pd.DataFrame(cooking_list)"
   ]
  },
  {
   "cell_type": "code",
   "execution_count": 8,
   "metadata": {},
   "outputs": [],
   "source": [
    "# save cooking data to data folder\n",
    "cooking_df.to_csv('./Data/cooking.csv', index = False)"
   ]
  },
  {
   "cell_type": "markdown",
   "metadata": {},
   "source": [
    "## Collect Subreddit 5 r/keto"
   ]
  },
  {
   "cell_type": "code",
   "execution_count": 9,
   "metadata": {
    "scrolled": true
   },
   "outputs": [
    {
     "name": "stdout",
     "output_type": "stream",
     "text": [
      "pulling subreddit submissions 500 of 20000\n",
      "pulling subreddit submissions 1000 of 20000\n",
      "pulling subreddit submissions 1500 of 20000\n",
      "pulling subreddit submissions 2000 of 20000\n",
      "pulling subreddit submissions 2500 of 20000\n",
      "pulling subreddit submissions 3000 of 20000\n",
      "pulling subreddit submissions 3500 of 20000\n",
      "pulling subreddit submissions 4000 of 20000\n",
      "pulling subreddit submissions 4500 of 20000\n",
      "pulling subreddit submissions 5000 of 20000\n",
      "pulling subreddit submissions 5500 of 20000\n",
      "pulling subreddit submissions 6000 of 20000\n",
      "pulling subreddit submissions 6500 of 20000\n",
      "pulling subreddit submissions 7000 of 20000\n",
      "pulling subreddit submissions 7500 of 20000\n",
      "pulling subreddit submissions 8000 of 20000\n",
      "pulling subreddit submissions 8500 of 20000\n",
      "pulling subreddit submissions 9000 of 20000\n",
      "pulling subreddit submissions 9500 of 20000\n",
      "pulling subreddit submissions 10000 of 20000\n",
      "pulling subreddit submissions 10500 of 20000\n",
      "pulling subreddit submissions 11000 of 20000\n",
      "pulling subreddit submissions 11500 of 20000\n",
      "pulling subreddit submissions 12000 of 20000\n",
      "pulling subreddit submissions 12500 of 20000\n",
      "pulling subreddit submissions 13000 of 20000\n",
      "pulling subreddit submissions 13500 of 20000\n",
      "pulling subreddit submissions 14000 of 20000\n",
      "pulling subreddit submissions 14500 of 20000\n",
      "pulling subreddit submissions 15000 of 20000\n",
      "pulling subreddit submissions 15500 of 20000\n",
      "pulling subreddit submissions 16000 of 20000\n",
      "pulling subreddit submissions 16500 of 20000\n",
      "pulling subreddit submissions 17000 of 20000\n",
      "pulling subreddit submissions 17500 of 20000\n",
      "pulling subreddit submissions 18000 of 20000\n",
      "pulling subreddit submissions 18500 of 20000\n",
      "pulling subreddit submissions 19000 of 20000\n",
      "pulling subreddit submissions 19500 of 20000\n",
      "Done, successfully pulled 20000 submissions from r/keto\n"
     ]
    }
   ],
   "source": [
    "keto_list = get_data('keto',20_000)"
   ]
  },
  {
   "cell_type": "code",
   "execution_count": 10,
   "metadata": {},
   "outputs": [],
   "source": [
    "# create 'keto' dataframe\n",
    "keto_df = pd.DataFrame(keto_list)"
   ]
  },
  {
   "cell_type": "code",
   "execution_count": 11,
   "metadata": {},
   "outputs": [],
   "source": [
    "# save keto data to data folder\n",
    "keto_df.to_csv('./Data/keto.csv', index = False)"
   ]
  },
  {
   "cell_type": "markdown",
   "metadata": {},
   "source": [
    "## Collect Subreddit 5 r/budgetfood"
   ]
  },
  {
   "cell_type": "code",
   "execution_count": 21,
   "metadata": {
    "scrolled": true
   },
   "outputs": [
    {
     "name": "stdout",
     "output_type": "stream",
     "text": [
      "pulling subreddit submissions 500 of 20000\n",
      "pulling subreddit submissions 1000 of 20000\n",
      "pulling subreddit submissions 1500 of 20000\n",
      "pulling subreddit submissions 2000 of 20000\n",
      "pulling subreddit submissions 2500 of 20000\n",
      "pulling subreddit submissions 3000 of 20000\n",
      "pulling subreddit submissions 3500 of 20000\n",
      "pulling subreddit submissions 4000 of 20000\n",
      "pulling subreddit submissions 4500 of 20000\n",
      "pulling subreddit submissions 5000 of 20000\n",
      "pulling subreddit submissions 5500 of 20000\n",
      "pulling subreddit submissions 6000 of 20000\n",
      "pulling subreddit submissions 6500 of 20000\n",
      "pulling subreddit submissions 7000 of 20000\n",
      "pulling subreddit submissions 7500 of 20000\n",
      "pulling subreddit submissions 8000 of 20000\n",
      "pulling subreddit submissions 8500 of 20000\n",
      "pulling subreddit submissions 9000 of 20000\n"
     ]
    },
    {
     "ename": "IndexError",
     "evalue": "list index out of range",
     "output_type": "error",
     "traceback": [
      "\u001b[0;31m---------------------------------------------------------------------------\u001b[0m",
      "\u001b[0;31mIndexError\u001b[0m                                Traceback (most recent call last)",
      "\u001b[0;32m<ipython-input-21-61803252bc26>\u001b[0m in \u001b[0;36m<module>\u001b[0;34m\u001b[0m\n\u001b[0;32m----> 1\u001b[0;31m \u001b[0mbudget_list\u001b[0m \u001b[0;34m=\u001b[0m \u001b[0mget_data\u001b[0m\u001b[0;34m(\u001b[0m\u001b[0;34m'budgetfood'\u001b[0m\u001b[0;34m,\u001b[0m\u001b[0;36m20_000\u001b[0m\u001b[0;34m)\u001b[0m\u001b[0;34m\u001b[0m\u001b[0;34m\u001b[0m\u001b[0m\n\u001b[0m",
      "\u001b[0;32m<ipython-input-3-a3900f1e5b47>\u001b[0m in \u001b[0;36mget_data\u001b[0;34m(subreddit, quantity)\u001b[0m\n\u001b[1;32m     28\u001b[0m \u001b[0;34m\u001b[0m\u001b[0m\n\u001b[1;32m     29\u001b[0m         \u001b[0;31m#find the oldest post date for next pull and subtract 1 to increase the age\u001b[0m\u001b[0;34m\u001b[0m\u001b[0;34m\u001b[0m\u001b[0;34m\u001b[0m\u001b[0m\n\u001b[0;32m---> 30\u001b[0;31m         \u001b[0mdate\u001b[0m \u001b[0;34m=\u001b[0m \u001b[0mresults\u001b[0m\u001b[0;34m[\u001b[0m\u001b[0;34m'data'\u001b[0m\u001b[0;34m]\u001b[0m\u001b[0;34m[\u001b[0m\u001b[0;36m499\u001b[0m\u001b[0;34m]\u001b[0m\u001b[0;34m[\u001b[0m\u001b[0;34m'created_utc'\u001b[0m\u001b[0;34m]\u001b[0m \u001b[0;34m-\u001b[0m \u001b[0;36m1\u001b[0m\u001b[0;34m\u001b[0m\u001b[0;34m\u001b[0m\u001b[0m\n\u001b[0m\u001b[1;32m     31\u001b[0m \u001b[0;34m\u001b[0m\u001b[0m\n\u001b[1;32m     32\u001b[0m         \u001b[0;31m#add the date to the new param list\u001b[0m\u001b[0;34m\u001b[0m\u001b[0;34m\u001b[0m\u001b[0;34m\u001b[0m\u001b[0m\n",
      "\u001b[0;31mIndexError\u001b[0m: list index out of range"
     ]
    }
   ],
   "source": [
    "budget_list = get_data('budgetfood',20_000)"
   ]
  },
  {
   "cell_type": "code",
   "execution_count": 13,
   "metadata": {},
   "outputs": [],
   "source": [
    "# create 'food' dataframe\n",
    "food_df = pd.DataFrame(food_list)"
   ]
  },
  {
   "cell_type": "code",
   "execution_count": 14,
   "metadata": {},
   "outputs": [],
   "source": [
    "# save food data to data folder\n",
    "food_df.to_csv('./Data/food.csv', index = False)"
   ]
  },
  {
   "cell_type": "markdown",
   "metadata": {},
   "source": [
    "### Continue to next notebook 'EDA' "
   ]
  }
 ],
 "metadata": {
  "kernelspec": {
   "display_name": "Python 3",
   "language": "python",
   "name": "python3"
  },
  "language_info": {
   "codemirror_mode": {
    "name": "ipython",
    "version": 3
   },
   "file_extension": ".py",
   "mimetype": "text/x-python",
   "name": "python",
   "nbconvert_exporter": "python",
   "pygments_lexer": "ipython3",
   "version": "3.7.4"
  }
 },
 "nbformat": 4,
 "nbformat_minor": 2
}
